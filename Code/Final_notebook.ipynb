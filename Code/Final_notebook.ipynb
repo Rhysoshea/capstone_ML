{
 "cells": [
  {
   "cell_type": "markdown",
   "metadata": {},
   "source": [
    "## Machine Learning Engineer Nanodegree"
   ]
  },
  {
   "cell_type": "markdown",
   "metadata": {},
   "source": [
    "# Capstone Project"
   ]
  },
  {
   "cell_type": "markdown",
   "metadata": {},
   "source": [
    "## Google Analytics Customer Revenue Prediction"
   ]
  },
  {
   "cell_type": "markdown",
   "metadata": {},
   "source": [
    "The 80/20 rule has proven true for many businesses–only a small percentage of customers produce most of the revenue. As such, marketing teams are challenged to make appropriate investments in promotional strategies.\n",
    "\n",
    "RStudio, the developer of free and open tools for R and enterprise-ready products for teams to scale and share work, has partnered with Google Cloud and Kaggle to demonstrate the business impact that thorough data analysis can have.\n",
    "\n",
    "In this competition, you’re challenged to analyze a Google Merchandise Store (also known as GStore, where Google swag is sold) customer dataset to predict revenue per customer. Hopefully, the outcome will be more actionable operational changes and a better use of marketing budgets for those companies who choose to use data analysis on top of GA data."
   ]
  },
  {
   "cell_type": "markdown",
   "metadata": {},
   "source": [
    "### Datasets\n",
    "- train.csv - the training set \n",
    "- test.csv - the test set \n",
    "- sampleSubmission.csv - a sample submission file in the correct format. Contains all fullVisitorIds in test.csv.\n",
    "\n",
    "#### Data Fields\n",
    "- fullVisitorId- A unique identifier for each user of the Google Merchandise Store.\n",
    "- channelGrouping - The channel via which the user came to the Store.\n",
    "- date - The date on which the user visited the Store.\n",
    "- device - The specifications for the device used to access the Store.\n",
    "- geoNetwork - This section contains information about the geography of the user.\n",
    "- sessionId - A unique identifier for this visit to the store.\n",
    "- socialEngagementType - Engagement type, either \"Socially Engaged\" or \"Not Socially Engaged\".\n",
    "- totals - This section contains aggregate values across the session.\n",
    "- trafficSource - This section contains information about the Traffic Source from which the session originated.\n",
    "- visitId - An identifier for this session. This is part of the value usually stored as the _utmb cookie. This is only unique to the user. For a completely unique ID, you should use a combination of fullVisitorId and visitId.\n",
    "- visitNumber - The session number for this user. If this is the first session, then this is set to 1.\n",
    "- visitStartTime - The timestamp (expressed as POSIX time).\n",
    "\n",
    "#### Removed Data Fields\n",
    "Some fields were censored to remove target leakage. The major censored fields are listed below.\n",
    "\n",
    "- hits - This row and nested fields are populated for any and all types of hits. Provides a record of all page visits.\n",
    "- customDimensions - This section contains any user-level or session-level custom dimensions that are set for a session. This is a repeated field and has an entry for each dimension that is set.\n",
    "- totals - Multiple sub-columns were removed from the totals field."
   ]
  },
  {
   "cell_type": "markdown",
   "metadata": {},
   "source": [
    "## 1. Loading Data and Libraries"
   ]
  },
  {
   "cell_type": "code",
   "execution_count": 2,
   "metadata": {
    "collapsed": false
   },
   "outputs": [
    {
     "name": "stderr",
     "output_type": "stream",
     "text": [
      "Using TensorFlow backend.\n"
     ]
    }
   ],
   "source": [
    "# Import libraries necessary for this project\n",
    "import os\n",
    "import json\n",
    "import csv\n",
    "import numpy as np\n",
    "import pandas as pd\n",
    "import datetime\n",
    "import math\n",
    "import matplotlib.mlab as mlab\n",
    "from pandas.io.json import json_normalize\n",
    "import matplotlib.pyplot as plt\n",
    "import seaborn as sns\n",
    "color = sns.color_palette()\n",
    "\n",
    "import tensorflow as tf\n",
    "# from tensorflow import keras\n",
    "\n",
    "# import shap\n",
    "# import eli5\n",
    "# from eli5.sklearn import PermutationImportance\n",
    "\n",
    "from sklearn.metrics import mean_squared_error\n",
    "from sklearn import preprocessing\n",
    "from sklearn.model_selection import train_test_split\n",
    "from keras.models import Sequential\n",
    "from keras.layers import Dense, Dropout, BatchNormalization, Activation, LeakyReLU\n",
    "from keras import optimizers, activations, models\n",
    "from keras.callbacks import EarlyStopping, TensorBoard, LearningRateScheduler, LambdaCallback, Callback\n",
    "\n",
    "\n",
    "%matplotlib inline\n",
    "\n",
    "from sklearn import model_selection, preprocessing, metrics\n",
    "\n",
    "pd.options.mode.chained_assignment = None\n",
    "pd.options.display.max_columns = 999"
   ]
  },
  {
   "cell_type": "markdown",
   "metadata": {},
   "source": [
    "Flattening the JSON blobs"
   ]
  },
  {
   "cell_type": "code",
   "execution_count": null,
   "metadata": {
    "collapsed": true
   },
   "outputs": [],
   "source": [
    "def load_df(csv_path='data/train.csv', nrows=None):\n",
    "    JSON_COLUMNS = ['device', 'geoNetwork', 'totals', 'trafficSource']\n",
    "    \n",
    "    df = pd.read_csv(csv_path, \n",
    "                     converters={column: json.loads for column in JSON_COLUMNS}, \n",
    "                     dtype={'fullVisitorId': 'str'}, # Important!!\n",
    "                     nrows=nrows)\n",
    "    \n",
    "    for column in JSON_COLUMNS:\n",
    "        column_as_df = json_normalize(df[column])\n",
    "        column_as_df.columns = [\"{subcolumn}\" for subcolumn in column_as_df.columns]\n",
    "        df = df.drop(column, axis=1).merge(column_as_df, right_index=True, left_index=True)\n",
    "    print(\"Loaded {os.path.basename(csv_path)}. Shape: {df.shape}\")\n",
    "    return df\n"
   ]
  },
  {
   "cell_type": "code",
   "execution_count": null,
   "metadata": {
    "collapsed": true
   },
   "outputs": [],
   "source": [
    "%%time\n",
    "train_df = load_df()"
   ]
  },
  {
   "cell_type": "code",
   "execution_count": null,
   "metadata": {
    "collapsed": true
   },
   "outputs": [],
   "source": [
    "%%time\n",
    "test_df = load_df(\"/data/test.csv\")"
   ]
  },
  {
   "cell_type": "code",
   "execution_count": null,
   "metadata": {
    "collapsed": true
   },
   "outputs": [],
   "source": [
    "train_df.columns.difference(test_df.columns)"
   ]
  },
  {
   "cell_type": "markdown",
   "metadata": {},
   "source": [
    "We can see now that:\n",
    "\n",
    "- `train.csv` has 903,653 rows and 55 columns \n",
    "- `test.csv` has 804,684 rows and 53 columns\n",
    "\n",
    "The columns not included in test.csv are `totals.transactionRevenue` as expected and `trafficSource.campaignCode`"
   ]
  },
  {
   "cell_type": "markdown",
   "metadata": {},
   "source": [
    "## 2. Data Exploration"
   ]
  },
  {
   "cell_type": "markdown",
   "metadata": {},
   "source": [
    "Now the dataset has been flattened, it is easy to refer to any part of the dataframe and explore various features. Firstly, let's look at the target variable totals.transactionRevenue for each user."
   ]
  },
  {
   "cell_type": "code",
   "execution_count": null,
   "metadata": {
    "collapsed": true
   },
   "outputs": [],
   "source": [
    "train_df.head()"
   ]
  },
  {
   "cell_type": "code",
   "execution_count": null,
   "metadata": {
    "collapsed": true
   },
   "outputs": [],
   "source": [
    "test_df.head()"
   ]
  },
  {
   "cell_type": "markdown",
   "metadata": {},
   "source": [
    "There also appear to be many columns with constant information in, such as `NaN` or `not available in demo dataset`. If entire columns contain the same information like these then they will likely not be of use. The code below tests for columns that only have 1 unique value."
   ]
  },
  {
   "cell_type": "code",
   "execution_count": null,
   "metadata": {
    "collapsed": true,
    "scrolled": true
   },
   "outputs": [],
   "source": [
    "const_cols = [c for c in train_df.columns if train_df[c].nunique(dropna=False)==1 ]\n",
    "const_cols"
   ]
  },
  {
   "cell_type": "code",
   "execution_count": null,
   "metadata": {
    "collapsed": true
   },
   "outputs": [],
   "source": [
    "train_df = train_df.drop(const_cols, axis=1)\n",
    "train_df.shape"
   ]
  },
  {
   "cell_type": "code",
   "execution_count": null,
   "metadata": {
    "collapsed": true
   },
   "outputs": [],
   "source": [
    "test_df = test_df.drop(const_cols, axis=1)\n",
    "test_df.shape"
   ]
  },
  {
   "cell_type": "code",
   "execution_count": null,
   "metadata": {
    "collapsed": true
   },
   "outputs": [],
   "source": [
    "train_df.to_csv(\"data/newTrain.csv\")"
   ]
  },
  {
   "cell_type": "code",
   "execution_count": null,
   "metadata": {
    "collapsed": true
   },
   "outputs": [],
   "source": [
    "test_df.to_csv(\"data/newTest.csv\")"
   ]
  },
  {
   "cell_type": "markdown",
   "metadata": {},
   "source": [
    "The columns that contain the null or useless values have been removed from the datasets, which now have 19 fewer columns. I have also saved the new dataframes to new csv files as they will be easier to acquire and work from later."
   ]
  },
  {
   "cell_type": "code",
   "execution_count": 2,
   "metadata": {
    "collapsed": false
   },
   "outputs": [
    {
     "name": "stdout",
     "output_type": "stream",
     "text": [
      "(903653, 37)\n"
     ]
    },
    {
     "data": {
      "text/html": [
       "<div>\n",
       "<style>\n",
       "    .dataframe thead tr:only-child th {\n",
       "        text-align: right;\n",
       "    }\n",
       "\n",
       "    .dataframe thead th {\n",
       "        text-align: left;\n",
       "    }\n",
       "\n",
       "    .dataframe tbody tr th {\n",
       "        vertical-align: top;\n",
       "    }\n",
       "</style>\n",
       "<table border=\"1\" class=\"dataframe\">\n",
       "  <thead>\n",
       "    <tr style=\"text-align: right;\">\n",
       "      <th></th>\n",
       "      <th>Unnamed: 0</th>\n",
       "      <th>channelGrouping</th>\n",
       "      <th>date</th>\n",
       "      <th>fullVisitorId</th>\n",
       "      <th>sessionId</th>\n",
       "      <th>visitId</th>\n",
       "      <th>visitNumber</th>\n",
       "      <th>visitStartTime</th>\n",
       "      <th>browser</th>\n",
       "      <th>deviceCategory</th>\n",
       "      <th>isMobile</th>\n",
       "      <th>operatingSystem</th>\n",
       "      <th>city</th>\n",
       "      <th>continent</th>\n",
       "      <th>country</th>\n",
       "      <th>metro</th>\n",
       "      <th>networkDomain</th>\n",
       "      <th>region</th>\n",
       "      <th>subContinent</th>\n",
       "      <th>bounces</th>\n",
       "      <th>hits</th>\n",
       "      <th>newVisits</th>\n",
       "      <th>pageviews</th>\n",
       "      <th>transactionRevenue</th>\n",
       "      <th>adContent</th>\n",
       "      <th>adwordsClickInfo.adNetworkType</th>\n",
       "      <th>adwordsClickInfo.gclId</th>\n",
       "      <th>adwordsClickInfo.isVideoAd</th>\n",
       "      <th>adwordsClickInfo.page</th>\n",
       "      <th>adwordsClickInfo.slot</th>\n",
       "      <th>campaign</th>\n",
       "      <th>campaignCode</th>\n",
       "      <th>isTrueDirect</th>\n",
       "      <th>keyword</th>\n",
       "      <th>medium</th>\n",
       "      <th>referralPath</th>\n",
       "      <th>source</th>\n",
       "    </tr>\n",
       "  </thead>\n",
       "  <tbody>\n",
       "    <tr>\n",
       "      <th>0</th>\n",
       "      <td>0</td>\n",
       "      <td>Organic Search</td>\n",
       "      <td>20160902</td>\n",
       "      <td>1131660440785968503</td>\n",
       "      <td>1131660440785968503_1472830385</td>\n",
       "      <td>1472830385</td>\n",
       "      <td>1</td>\n",
       "      <td>1472830385</td>\n",
       "      <td>Chrome</td>\n",
       "      <td>desktop</td>\n",
       "      <td>False</td>\n",
       "      <td>Windows</td>\n",
       "      <td>Izmir</td>\n",
       "      <td>Asia</td>\n",
       "      <td>Turkey</td>\n",
       "      <td>(not set)</td>\n",
       "      <td>ttnet.com.tr</td>\n",
       "      <td>Izmir</td>\n",
       "      <td>Western Asia</td>\n",
       "      <td>1.0</td>\n",
       "      <td>1</td>\n",
       "      <td>1.0</td>\n",
       "      <td>1.0</td>\n",
       "      <td>NaN</td>\n",
       "      <td>NaN</td>\n",
       "      <td>NaN</td>\n",
       "      <td>NaN</td>\n",
       "      <td>NaN</td>\n",
       "      <td>NaN</td>\n",
       "      <td>NaN</td>\n",
       "      <td>(not set)</td>\n",
       "      <td>NaN</td>\n",
       "      <td>NaN</td>\n",
       "      <td>(not provided)</td>\n",
       "      <td>organic</td>\n",
       "      <td>NaN</td>\n",
       "      <td>google</td>\n",
       "    </tr>\n",
       "    <tr>\n",
       "      <th>1</th>\n",
       "      <td>1</td>\n",
       "      <td>Organic Search</td>\n",
       "      <td>20160902</td>\n",
       "      <td>377306020877927890</td>\n",
       "      <td>377306020877927890_1472880147</td>\n",
       "      <td>1472880147</td>\n",
       "      <td>1</td>\n",
       "      <td>1472880147</td>\n",
       "      <td>Firefox</td>\n",
       "      <td>desktop</td>\n",
       "      <td>False</td>\n",
       "      <td>Macintosh</td>\n",
       "      <td>not available in demo dataset</td>\n",
       "      <td>Oceania</td>\n",
       "      <td>Australia</td>\n",
       "      <td>not available in demo dataset</td>\n",
       "      <td>dodo.net.au</td>\n",
       "      <td>not available in demo dataset</td>\n",
       "      <td>Australasia</td>\n",
       "      <td>1.0</td>\n",
       "      <td>1</td>\n",
       "      <td>1.0</td>\n",
       "      <td>1.0</td>\n",
       "      <td>NaN</td>\n",
       "      <td>NaN</td>\n",
       "      <td>NaN</td>\n",
       "      <td>NaN</td>\n",
       "      <td>NaN</td>\n",
       "      <td>NaN</td>\n",
       "      <td>NaN</td>\n",
       "      <td>(not set)</td>\n",
       "      <td>NaN</td>\n",
       "      <td>NaN</td>\n",
       "      <td>(not provided)</td>\n",
       "      <td>organic</td>\n",
       "      <td>NaN</td>\n",
       "      <td>google</td>\n",
       "    </tr>\n",
       "    <tr>\n",
       "      <th>2</th>\n",
       "      <td>2</td>\n",
       "      <td>Organic Search</td>\n",
       "      <td>20160902</td>\n",
       "      <td>3895546263509774583</td>\n",
       "      <td>3895546263509774583_1472865386</td>\n",
       "      <td>1472865386</td>\n",
       "      <td>1</td>\n",
       "      <td>1472865386</td>\n",
       "      <td>Chrome</td>\n",
       "      <td>desktop</td>\n",
       "      <td>False</td>\n",
       "      <td>Windows</td>\n",
       "      <td>Madrid</td>\n",
       "      <td>Europe</td>\n",
       "      <td>Spain</td>\n",
       "      <td>(not set)</td>\n",
       "      <td>unknown.unknown</td>\n",
       "      <td>Community of Madrid</td>\n",
       "      <td>Southern Europe</td>\n",
       "      <td>1.0</td>\n",
       "      <td>1</td>\n",
       "      <td>1.0</td>\n",
       "      <td>1.0</td>\n",
       "      <td>NaN</td>\n",
       "      <td>NaN</td>\n",
       "      <td>NaN</td>\n",
       "      <td>NaN</td>\n",
       "      <td>NaN</td>\n",
       "      <td>NaN</td>\n",
       "      <td>NaN</td>\n",
       "      <td>(not set)</td>\n",
       "      <td>NaN</td>\n",
       "      <td>NaN</td>\n",
       "      <td>(not provided)</td>\n",
       "      <td>organic</td>\n",
       "      <td>NaN</td>\n",
       "      <td>google</td>\n",
       "    </tr>\n",
       "    <tr>\n",
       "      <th>3</th>\n",
       "      <td>3</td>\n",
       "      <td>Organic Search</td>\n",
       "      <td>20160902</td>\n",
       "      <td>4763447161404445595</td>\n",
       "      <td>4763447161404445595_1472881213</td>\n",
       "      <td>1472881213</td>\n",
       "      <td>1</td>\n",
       "      <td>1472881213</td>\n",
       "      <td>UC Browser</td>\n",
       "      <td>desktop</td>\n",
       "      <td>False</td>\n",
       "      <td>Linux</td>\n",
       "      <td>not available in demo dataset</td>\n",
       "      <td>Asia</td>\n",
       "      <td>Indonesia</td>\n",
       "      <td>not available in demo dataset</td>\n",
       "      <td>unknown.unknown</td>\n",
       "      <td>not available in demo dataset</td>\n",
       "      <td>Southeast Asia</td>\n",
       "      <td>1.0</td>\n",
       "      <td>1</td>\n",
       "      <td>1.0</td>\n",
       "      <td>1.0</td>\n",
       "      <td>NaN</td>\n",
       "      <td>NaN</td>\n",
       "      <td>NaN</td>\n",
       "      <td>NaN</td>\n",
       "      <td>NaN</td>\n",
       "      <td>NaN</td>\n",
       "      <td>NaN</td>\n",
       "      <td>(not set)</td>\n",
       "      <td>NaN</td>\n",
       "      <td>NaN</td>\n",
       "      <td>google + online</td>\n",
       "      <td>organic</td>\n",
       "      <td>NaN</td>\n",
       "      <td>google</td>\n",
       "    </tr>\n",
       "    <tr>\n",
       "      <th>4</th>\n",
       "      <td>4</td>\n",
       "      <td>Organic Search</td>\n",
       "      <td>20160902</td>\n",
       "      <td>27294437909732085</td>\n",
       "      <td>27294437909732085_1472822600</td>\n",
       "      <td>1472822600</td>\n",
       "      <td>2</td>\n",
       "      <td>1472822600</td>\n",
       "      <td>Chrome</td>\n",
       "      <td>mobile</td>\n",
       "      <td>True</td>\n",
       "      <td>Android</td>\n",
       "      <td>not available in demo dataset</td>\n",
       "      <td>Europe</td>\n",
       "      <td>United Kingdom</td>\n",
       "      <td>not available in demo dataset</td>\n",
       "      <td>unknown.unknown</td>\n",
       "      <td>not available in demo dataset</td>\n",
       "      <td>Northern Europe</td>\n",
       "      <td>1.0</td>\n",
       "      <td>1</td>\n",
       "      <td>NaN</td>\n",
       "      <td>1.0</td>\n",
       "      <td>NaN</td>\n",
       "      <td>NaN</td>\n",
       "      <td>NaN</td>\n",
       "      <td>NaN</td>\n",
       "      <td>NaN</td>\n",
       "      <td>NaN</td>\n",
       "      <td>NaN</td>\n",
       "      <td>(not set)</td>\n",
       "      <td>NaN</td>\n",
       "      <td>True</td>\n",
       "      <td>(not provided)</td>\n",
       "      <td>organic</td>\n",
       "      <td>NaN</td>\n",
       "      <td>google</td>\n",
       "    </tr>\n",
       "  </tbody>\n",
       "</table>\n",
       "</div>"
      ],
      "text/plain": [
       "   Unnamed: 0 channelGrouping      date        fullVisitorId  \\\n",
       "0           0  Organic Search  20160902  1131660440785968503   \n",
       "1           1  Organic Search  20160902   377306020877927890   \n",
       "2           2  Organic Search  20160902  3895546263509774583   \n",
       "3           3  Organic Search  20160902  4763447161404445595   \n",
       "4           4  Organic Search  20160902    27294437909732085   \n",
       "\n",
       "                        sessionId     visitId  visitNumber  visitStartTime  \\\n",
       "0  1131660440785968503_1472830385  1472830385            1      1472830385   \n",
       "1   377306020877927890_1472880147  1472880147            1      1472880147   \n",
       "2  3895546263509774583_1472865386  1472865386            1      1472865386   \n",
       "3  4763447161404445595_1472881213  1472881213            1      1472881213   \n",
       "4    27294437909732085_1472822600  1472822600            2      1472822600   \n",
       "\n",
       "      browser deviceCategory  isMobile operatingSystem  \\\n",
       "0      Chrome        desktop     False         Windows   \n",
       "1     Firefox        desktop     False       Macintosh   \n",
       "2      Chrome        desktop     False         Windows   \n",
       "3  UC Browser        desktop     False           Linux   \n",
       "4      Chrome         mobile      True         Android   \n",
       "\n",
       "                            city continent         country  \\\n",
       "0                          Izmir      Asia          Turkey   \n",
       "1  not available in demo dataset   Oceania       Australia   \n",
       "2                         Madrid    Europe           Spain   \n",
       "3  not available in demo dataset      Asia       Indonesia   \n",
       "4  not available in demo dataset    Europe  United Kingdom   \n",
       "\n",
       "                           metro    networkDomain  \\\n",
       "0                      (not set)     ttnet.com.tr   \n",
       "1  not available in demo dataset      dodo.net.au   \n",
       "2                      (not set)  unknown.unknown   \n",
       "3  not available in demo dataset  unknown.unknown   \n",
       "4  not available in demo dataset  unknown.unknown   \n",
       "\n",
       "                          region     subContinent  bounces  hits  newVisits  \\\n",
       "0                          Izmir     Western Asia      1.0     1        1.0   \n",
       "1  not available in demo dataset      Australasia      1.0     1        1.0   \n",
       "2            Community of Madrid  Southern Europe      1.0     1        1.0   \n",
       "3  not available in demo dataset   Southeast Asia      1.0     1        1.0   \n",
       "4  not available in demo dataset  Northern Europe      1.0     1        NaN   \n",
       "\n",
       "   pageviews  transactionRevenue adContent adwordsClickInfo.adNetworkType  \\\n",
       "0        1.0                 NaN       NaN                            NaN   \n",
       "1        1.0                 NaN       NaN                            NaN   \n",
       "2        1.0                 NaN       NaN                            NaN   \n",
       "3        1.0                 NaN       NaN                            NaN   \n",
       "4        1.0                 NaN       NaN                            NaN   \n",
       "\n",
       "  adwordsClickInfo.gclId adwordsClickInfo.isVideoAd  adwordsClickInfo.page  \\\n",
       "0                    NaN                        NaN                    NaN   \n",
       "1                    NaN                        NaN                    NaN   \n",
       "2                    NaN                        NaN                    NaN   \n",
       "3                    NaN                        NaN                    NaN   \n",
       "4                    NaN                        NaN                    NaN   \n",
       "\n",
       "  adwordsClickInfo.slot   campaign campaignCode isTrueDirect          keyword  \\\n",
       "0                   NaN  (not set)          NaN          NaN   (not provided)   \n",
       "1                   NaN  (not set)          NaN          NaN   (not provided)   \n",
       "2                   NaN  (not set)          NaN          NaN   (not provided)   \n",
       "3                   NaN  (not set)          NaN          NaN  google + online   \n",
       "4                   NaN  (not set)          NaN         True   (not provided)   \n",
       "\n",
       "    medium referralPath  source  \n",
       "0  organic          NaN  google  \n",
       "1  organic          NaN  google  \n",
       "2  organic          NaN  google  \n",
       "3  organic          NaN  google  \n",
       "4  organic          NaN  google  "
      ]
     },
     "execution_count": 2,
     "metadata": {},
     "output_type": "execute_result"
    }
   ],
   "source": [
    "nTrain_df = pd.read_csv(\"data/newTrain.csv\", \n",
    "                 dtype={'fullVisitorId': 'str',\n",
    "                       'campaignCode': 'str'})\n",
    "print (nTrain_df.shape)\n",
    "nTrain_df.head()"
   ]
  },
  {
   "cell_type": "code",
   "execution_count": 3,
   "metadata": {
    "collapsed": false
   },
   "outputs": [
    {
     "name": "stdout",
     "output_type": "stream",
     "text": [
      "(804684, 35)\n"
     ]
    },
    {
     "data": {
      "text/html": [
       "<div>\n",
       "<style>\n",
       "    .dataframe thead tr:only-child th {\n",
       "        text-align: right;\n",
       "    }\n",
       "\n",
       "    .dataframe thead th {\n",
       "        text-align: left;\n",
       "    }\n",
       "\n",
       "    .dataframe tbody tr th {\n",
       "        vertical-align: top;\n",
       "    }\n",
       "</style>\n",
       "<table border=\"1\" class=\"dataframe\">\n",
       "  <thead>\n",
       "    <tr style=\"text-align: right;\">\n",
       "      <th></th>\n",
       "      <th>Unnamed: 0</th>\n",
       "      <th>channelGrouping</th>\n",
       "      <th>date</th>\n",
       "      <th>fullVisitorId</th>\n",
       "      <th>sessionId</th>\n",
       "      <th>visitId</th>\n",
       "      <th>visitNumber</th>\n",
       "      <th>visitStartTime</th>\n",
       "      <th>browser</th>\n",
       "      <th>deviceCategory</th>\n",
       "      <th>isMobile</th>\n",
       "      <th>operatingSystem</th>\n",
       "      <th>city</th>\n",
       "      <th>continent</th>\n",
       "      <th>country</th>\n",
       "      <th>metro</th>\n",
       "      <th>networkDomain</th>\n",
       "      <th>region</th>\n",
       "      <th>subContinent</th>\n",
       "      <th>bounces</th>\n",
       "      <th>hits</th>\n",
       "      <th>newVisits</th>\n",
       "      <th>pageviews</th>\n",
       "      <th>adContent</th>\n",
       "      <th>adwordsClickInfo.adNetworkType</th>\n",
       "      <th>adwordsClickInfo.gclId</th>\n",
       "      <th>adwordsClickInfo.isVideoAd</th>\n",
       "      <th>adwordsClickInfo.page</th>\n",
       "      <th>adwordsClickInfo.slot</th>\n",
       "      <th>campaign</th>\n",
       "      <th>isTrueDirect</th>\n",
       "      <th>keyword</th>\n",
       "      <th>medium</th>\n",
       "      <th>referralPath</th>\n",
       "      <th>source</th>\n",
       "    </tr>\n",
       "  </thead>\n",
       "  <tbody>\n",
       "    <tr>\n",
       "      <th>0</th>\n",
       "      <td>0</td>\n",
       "      <td>Organic Search</td>\n",
       "      <td>20171016</td>\n",
       "      <td>6167871330617112363</td>\n",
       "      <td>6167871330617112363_1508151024</td>\n",
       "      <td>1508151024</td>\n",
       "      <td>2</td>\n",
       "      <td>1508151024</td>\n",
       "      <td>Chrome</td>\n",
       "      <td>desktop</td>\n",
       "      <td>False</td>\n",
       "      <td>Macintosh</td>\n",
       "      <td>(not set)</td>\n",
       "      <td>Asia</td>\n",
       "      <td>Singapore</td>\n",
       "      <td>(not set)</td>\n",
       "      <td>myrepublic.com.sg</td>\n",
       "      <td>(not set)</td>\n",
       "      <td>Southeast Asia</td>\n",
       "      <td>NaN</td>\n",
       "      <td>4</td>\n",
       "      <td>NaN</td>\n",
       "      <td>4.0</td>\n",
       "      <td>NaN</td>\n",
       "      <td>NaN</td>\n",
       "      <td>NaN</td>\n",
       "      <td>NaN</td>\n",
       "      <td>NaN</td>\n",
       "      <td>NaN</td>\n",
       "      <td>(not set)</td>\n",
       "      <td>True</td>\n",
       "      <td>(not provided)</td>\n",
       "      <td>organic</td>\n",
       "      <td>NaN</td>\n",
       "      <td>google</td>\n",
       "    </tr>\n",
       "    <tr>\n",
       "      <th>1</th>\n",
       "      <td>1</td>\n",
       "      <td>Organic Search</td>\n",
       "      <td>20171016</td>\n",
       "      <td>0643697640977915618</td>\n",
       "      <td>0643697640977915618_1508175522</td>\n",
       "      <td>1508175522</td>\n",
       "      <td>1</td>\n",
       "      <td>1508175522</td>\n",
       "      <td>Chrome</td>\n",
       "      <td>desktop</td>\n",
       "      <td>False</td>\n",
       "      <td>Windows</td>\n",
       "      <td>Zaragoza</td>\n",
       "      <td>Europe</td>\n",
       "      <td>Spain</td>\n",
       "      <td>(not set)</td>\n",
       "      <td>rima-tde.net</td>\n",
       "      <td>Aragon</td>\n",
       "      <td>Southern Europe</td>\n",
       "      <td>NaN</td>\n",
       "      <td>5</td>\n",
       "      <td>1.0</td>\n",
       "      <td>5.0</td>\n",
       "      <td>NaN</td>\n",
       "      <td>NaN</td>\n",
       "      <td>NaN</td>\n",
       "      <td>NaN</td>\n",
       "      <td>NaN</td>\n",
       "      <td>NaN</td>\n",
       "      <td>(not set)</td>\n",
       "      <td>NaN</td>\n",
       "      <td>(not provided)</td>\n",
       "      <td>organic</td>\n",
       "      <td>NaN</td>\n",
       "      <td>google</td>\n",
       "    </tr>\n",
       "    <tr>\n",
       "      <th>2</th>\n",
       "      <td>2</td>\n",
       "      <td>Organic Search</td>\n",
       "      <td>20171016</td>\n",
       "      <td>6059383810968229466</td>\n",
       "      <td>6059383810968229466_1508143220</td>\n",
       "      <td>1508143220</td>\n",
       "      <td>1</td>\n",
       "      <td>1508143220</td>\n",
       "      <td>Chrome</td>\n",
       "      <td>desktop</td>\n",
       "      <td>False</td>\n",
       "      <td>Macintosh</td>\n",
       "      <td>not available in demo dataset</td>\n",
       "      <td>Europe</td>\n",
       "      <td>France</td>\n",
       "      <td>not available in demo dataset</td>\n",
       "      <td>sfr.net</td>\n",
       "      <td>not available in demo dataset</td>\n",
       "      <td>Western Europe</td>\n",
       "      <td>NaN</td>\n",
       "      <td>7</td>\n",
       "      <td>1.0</td>\n",
       "      <td>7.0</td>\n",
       "      <td>NaN</td>\n",
       "      <td>NaN</td>\n",
       "      <td>NaN</td>\n",
       "      <td>NaN</td>\n",
       "      <td>NaN</td>\n",
       "      <td>NaN</td>\n",
       "      <td>(not set)</td>\n",
       "      <td>NaN</td>\n",
       "      <td>(not provided)</td>\n",
       "      <td>organic</td>\n",
       "      <td>NaN</td>\n",
       "      <td>google</td>\n",
       "    </tr>\n",
       "    <tr>\n",
       "      <th>3</th>\n",
       "      <td>3</td>\n",
       "      <td>Organic Search</td>\n",
       "      <td>20171016</td>\n",
       "      <td>2376720078563423631</td>\n",
       "      <td>2376720078563423631_1508193530</td>\n",
       "      <td>1508193530</td>\n",
       "      <td>1</td>\n",
       "      <td>1508193530</td>\n",
       "      <td>Safari</td>\n",
       "      <td>mobile</td>\n",
       "      <td>True</td>\n",
       "      <td>iOS</td>\n",
       "      <td>Mountain View</td>\n",
       "      <td>Americas</td>\n",
       "      <td>United States</td>\n",
       "      <td>San Francisco-Oakland-San Jose CA</td>\n",
       "      <td>(not set)</td>\n",
       "      <td>California</td>\n",
       "      <td>Northern America</td>\n",
       "      <td>NaN</td>\n",
       "      <td>8</td>\n",
       "      <td>1.0</td>\n",
       "      <td>4.0</td>\n",
       "      <td>NaN</td>\n",
       "      <td>NaN</td>\n",
       "      <td>NaN</td>\n",
       "      <td>NaN</td>\n",
       "      <td>NaN</td>\n",
       "      <td>NaN</td>\n",
       "      <td>(not set)</td>\n",
       "      <td>NaN</td>\n",
       "      <td>(not provided)</td>\n",
       "      <td>organic</td>\n",
       "      <td>NaN</td>\n",
       "      <td>google</td>\n",
       "    </tr>\n",
       "    <tr>\n",
       "      <th>4</th>\n",
       "      <td>4</td>\n",
       "      <td>Organic Search</td>\n",
       "      <td>20171016</td>\n",
       "      <td>2314544520795440038</td>\n",
       "      <td>2314544520795440038_1508217442</td>\n",
       "      <td>1508217442</td>\n",
       "      <td>1</td>\n",
       "      <td>1508217442</td>\n",
       "      <td>Safari</td>\n",
       "      <td>desktop</td>\n",
       "      <td>False</td>\n",
       "      <td>Macintosh</td>\n",
       "      <td>San Jose</td>\n",
       "      <td>Americas</td>\n",
       "      <td>United States</td>\n",
       "      <td>San Francisco-Oakland-San Jose CA</td>\n",
       "      <td>(not set)</td>\n",
       "      <td>California</td>\n",
       "      <td>Northern America</td>\n",
       "      <td>NaN</td>\n",
       "      <td>9</td>\n",
       "      <td>1.0</td>\n",
       "      <td>4.0</td>\n",
       "      <td>NaN</td>\n",
       "      <td>NaN</td>\n",
       "      <td>NaN</td>\n",
       "      <td>NaN</td>\n",
       "      <td>NaN</td>\n",
       "      <td>NaN</td>\n",
       "      <td>(not set)</td>\n",
       "      <td>NaN</td>\n",
       "      <td>(not provided)</td>\n",
       "      <td>organic</td>\n",
       "      <td>NaN</td>\n",
       "      <td>google</td>\n",
       "    </tr>\n",
       "  </tbody>\n",
       "</table>\n",
       "</div>"
      ],
      "text/plain": [
       "   Unnamed: 0 channelGrouping      date        fullVisitorId  \\\n",
       "0           0  Organic Search  20171016  6167871330617112363   \n",
       "1           1  Organic Search  20171016  0643697640977915618   \n",
       "2           2  Organic Search  20171016  6059383810968229466   \n",
       "3           3  Organic Search  20171016  2376720078563423631   \n",
       "4           4  Organic Search  20171016  2314544520795440038   \n",
       "\n",
       "                        sessionId     visitId  visitNumber  visitStartTime  \\\n",
       "0  6167871330617112363_1508151024  1508151024            2      1508151024   \n",
       "1  0643697640977915618_1508175522  1508175522            1      1508175522   \n",
       "2  6059383810968229466_1508143220  1508143220            1      1508143220   \n",
       "3  2376720078563423631_1508193530  1508193530            1      1508193530   \n",
       "4  2314544520795440038_1508217442  1508217442            1      1508217442   \n",
       "\n",
       "  browser deviceCategory  isMobile operatingSystem  \\\n",
       "0  Chrome        desktop     False       Macintosh   \n",
       "1  Chrome        desktop     False         Windows   \n",
       "2  Chrome        desktop     False       Macintosh   \n",
       "3  Safari         mobile      True             iOS   \n",
       "4  Safari        desktop     False       Macintosh   \n",
       "\n",
       "                            city continent        country  \\\n",
       "0                      (not set)      Asia      Singapore   \n",
       "1                       Zaragoza    Europe          Spain   \n",
       "2  not available in demo dataset    Europe         France   \n",
       "3                  Mountain View  Americas  United States   \n",
       "4                       San Jose  Americas  United States   \n",
       "\n",
       "                               metro      networkDomain  \\\n",
       "0                          (not set)  myrepublic.com.sg   \n",
       "1                          (not set)       rima-tde.net   \n",
       "2      not available in demo dataset            sfr.net   \n",
       "3  San Francisco-Oakland-San Jose CA          (not set)   \n",
       "4  San Francisco-Oakland-San Jose CA          (not set)   \n",
       "\n",
       "                          region      subContinent  bounces  hits  newVisits  \\\n",
       "0                      (not set)    Southeast Asia      NaN     4        NaN   \n",
       "1                         Aragon   Southern Europe      NaN     5        1.0   \n",
       "2  not available in demo dataset    Western Europe      NaN     7        1.0   \n",
       "3                     California  Northern America      NaN     8        1.0   \n",
       "4                     California  Northern America      NaN     9        1.0   \n",
       "\n",
       "   pageviews adContent adwordsClickInfo.adNetworkType adwordsClickInfo.gclId  \\\n",
       "0        4.0       NaN                            NaN                    NaN   \n",
       "1        5.0       NaN                            NaN                    NaN   \n",
       "2        7.0       NaN                            NaN                    NaN   \n",
       "3        4.0       NaN                            NaN                    NaN   \n",
       "4        4.0       NaN                            NaN                    NaN   \n",
       "\n",
       "  adwordsClickInfo.isVideoAd  adwordsClickInfo.page adwordsClickInfo.slot  \\\n",
       "0                        NaN                    NaN                   NaN   \n",
       "1                        NaN                    NaN                   NaN   \n",
       "2                        NaN                    NaN                   NaN   \n",
       "3                        NaN                    NaN                   NaN   \n",
       "4                        NaN                    NaN                   NaN   \n",
       "\n",
       "    campaign isTrueDirect         keyword   medium referralPath  source  \n",
       "0  (not set)         True  (not provided)  organic          NaN  google  \n",
       "1  (not set)          NaN  (not provided)  organic          NaN  google  \n",
       "2  (not set)          NaN  (not provided)  organic          NaN  google  \n",
       "3  (not set)          NaN  (not provided)  organic          NaN  google  \n",
       "4  (not set)          NaN  (not provided)  organic          NaN  google  "
      ]
     },
     "execution_count": 3,
     "metadata": {},
     "output_type": "execute_result"
    }
   ],
   "source": [
    "nTest_df = pd.read_csv(\"data/newTest.csv\", \n",
    "             dtype={'fullVisitorId': 'str'})\n",
    "print (nTest_df.shape)\n",
    "nTest_df.head()"
   ]
  },
  {
   "cell_type": "code",
   "execution_count": 4,
   "metadata": {
    "collapsed": false
   },
   "outputs": [
    {
     "data": {
      "image/png": "[encoded data removed]",
      "text/plain": [
       "<matplotlib.figure.Figure at 0x7fc0fbbf04e0>"
      ]
     },
     "metadata": {},
     "output_type": "display_data"
    }
   ],
   "source": [
    "nTrain_df[\"transactionRevenue\"].fillna(0, inplace=True)\n",
    "nTrain_df[\"transactionRevenue\"] = nTrain_df[\"transactionRevenue\"].astype('float')\n",
    "gdf = nTrain_df.groupby(\"fullVisitorId\")[\"transactionRevenue\"].sum().reset_index()\n",
    "\n",
    "plt.figure(figsize=(8,6))\n",
    "plt.scatter(range(gdf.shape[0]), np.sort(np.log1p(gdf[\"transactionRevenue\"].values)))\n",
    "plt.xlabel('index', fontsize=12)\n",
    "plt.ylabel('TransactionRevenue', fontsize=12)\n",
    "plt.show()"
   ]
  },
  {
   "cell_type": "markdown",
   "metadata": {},
   "source": [
    "It is clear to see the revenue comes from a select few of customers, as stated by the 80/20 rule"
   ]
  },
  {
   "cell_type": "code",
   "execution_count": 12,
   "metadata": {
    "collapsed": false
   },
   "outputs": [
    {
     "name": "stdout",
     "output_type": "stream",
     "text": [
      "9996\n",
      "Number of unique customers:  714167  with non-zero revenue :  9996 and the ratio is :  1.39967262559\n",
      "The ratio is much lower than 80/20, only 1.3% of visitors have spent money\n"
     ]
    }
   ],
   "source": [
    "num_buyers = (gdf[\"transactionRevenue\"]>0).sum()\n",
    "print (num_buyers)\n",
    "print(\"Number of unique customers: \",gdf.shape[0],\" with non-zero revenue : \", num_buyers, \"and the ratio is : \", (num_buyers / gdf.shape[0])*100)\n",
    "print (\"The ratio is much lower than 80/20, only 1.3% of visitors have spent money\")\n"
   ]
  },
  {
   "cell_type": "code",
   "execution_count": 21,
   "metadata": {
    "collapsed": false
   },
   "outputs": [
    {
     "name": "stdout",
     "output_type": "stream",
     "text": [
      "Statistics for total revenue per fullVisitorID:\n",
      "\n",
      "Minimum: $0.0\n",
      "Maximum: $25.06854329172392\n",
      "Mean: $14.583978147217332\n",
      "Standard deviation: $18.501230286750427\n"
     ]
    }
   ],
   "source": [
    "minimum = np.log1p(np.min(gdf[\"transactionRevenue\"]))\n",
    "maximum = np.log1p(np.max(gdf[\"transactionRevenue\"]))\n",
    "mean= np.log1p(np.mean(gdf[\"transactionRevenue\"]))\n",
    "std= np.log1p(np.std(gdf[\"transactionRevenue\"]))\n",
    "\n",
    "# Show the calculated statistics\n",
    "print(\"Statistics for total revenue per fullVisitorID:\\n\")\n",
    "print(\"Minimum: ${}\".format(minimum))\n",
    "print(\"Maximum: ${}\".format(maximum))\n",
    "print(\"Mean: ${}\".format(mean))\n",
    "print(\"Standard deviation: ${}\".format(std))"
   ]
  },
  {
   "cell_type": "code",
   "execution_count": 22,
   "metadata": {
    "collapsed": false
   },
   "outputs": [
    {
     "data": {
      "image/png": "[encoded data removed]",
      "text/plain": [
       "<matplotlib.figure.Figure at 0x7f1ed1e42b70>"
      ]
     },
     "metadata": {},
     "output_type": "display_data"
    }
   ],
   "source": [
    "sigma = math.sqrt(std)\n",
    "x = np.linspace(mean - 3*sigma, mean + 3*sigma, 100)\n",
    "plt.plot(x,mlab.normpdf(x, mean, sigma))\n",
    "plt.show()"
   ]
  },
  {
   "cell_type": "markdown",
   "metadata": {},
   "source": [
    "This is a simple distribution of what the total revenue is expected to be amongst those visitors that spend money."
   ]
  },
  {
   "cell_type": "code",
   "execution_count": null,
   "metadata": {
    "collapsed": true
   },
   "outputs": [],
   "source": [
    "def horizontal_bar_chart(y1, x1, y2, x2, y3, x3, data):\n",
    "    f, axes = plt.subplots(1,3,figsize=(18, 6))\n",
    "    \n",
    "    sns.set(style=\"whitegrid\")\n",
    "    sns.set_color_codes(\"pastel\")\n",
    "    sns.barplot(y=y1, x=x1, data=data,\n",
    "            label=\"Total\", ax=axes[0])\n",
    "    \n",
    "    sns.set(style=\"whitegrid\")\n",
    "    sns.set_color_codes(\"pastel\")\n",
    "    sns.barplot(y=y2, x=x2, data=data,\n",
    "            label=\"Total\", ax=axes[1])\n",
    "    \n",
    "    sns.set(style=\"whitegrid\")\n",
    "    sns.set_color_codes(\"pastel\")\n",
    "    sns.barplot(y=y3, x=x3, data=data,\n",
    "            label=\"Total\", ax=axes[2])\n",
    "    \n",
    "    plt.tight_layout()"
   ]
  },
  {
   "cell_type": "code",
   "execution_count": null,
   "metadata": {
    "collapsed": true
   },
   "outputs": [],
   "source": [
    "data = nTrain_df.groupby(\"browser\")[\"transactionRevenue\"].agg(['size', 'count', 'mean'])\n",
    "data.columns = [\"count\", \"count of transactions\", \"mean transaction\"]\n",
    "data.reset_index(inplace=True)\n",
    "data = data.sort_values(by=\"count\", ascending=False)\n",
    "\n",
    "horizontal_bar_chart(\"browser\", \"count\", \"browser\", \"count of transactions\", \"browser\", \"mean transaction\", data.head(10))\n"
   ]
  },
  {
   "cell_type": "code",
   "execution_count": null,
   "metadata": {
    "collapsed": true
   },
   "outputs": [],
   "source": [
    "data = nTrain_df.groupby(\"deviceCategory\")[\"transactionRevenue\"].agg(['size', 'count', 'mean'])\n",
    "data.columns = [\"count\", \"count of transactions\", \"mean transaction\"]\n",
    "data.reset_index(inplace=True)\n",
    "data = data.sort_values(by=\"count\", ascending=False)\n",
    "\n",
    "horizontal_bar_chart(\"deviceCategory\", \"count\", \"deviceCategory\", \"count of transactions\", \"deviceCategory\", \"mean transaction\", data)"
   ]
  },
  {
   "cell_type": "code",
   "execution_count": null,
   "metadata": {
    "collapsed": true
   },
   "outputs": [],
   "source": [
    "data = nTrain_df.groupby(\"operatingSystem\")[\"transactionRevenue\"].agg(['size', 'count', 'mean'])\n",
    "data.columns = [\"count\", \"count of transactions\", \"mean transaction\"]\n",
    "data.reset_index(inplace=True)\n",
    "data = data.sort_values(by=\"count\", ascending=False)\n",
    "\n",
    "horizontal_bar_chart(\"operatingSystem\", \"count\", \"operatingSystem\", \"count of transactions\", \"operatingSystem\", \"mean transaction\", data)"
   ]
  },
  {
   "cell_type": "code",
   "execution_count": null,
   "metadata": {
    "collapsed": true
   },
   "outputs": [],
   "source": [
    "data = nTrain_df.groupby(\"continent\")[\"transactionRevenue\"].agg(['size', 'count', 'mean'])\n",
    "data.columns = [\"count\", \"count of transactions\", \"mean transaction\"]\n",
    "data.reset_index(inplace=True)\n",
    "data = data.sort_values(by=\"count\", ascending=False)\n",
    "\n",
    "horizontal_bar_chart(\"continent\", \"count\", \"continent\", \"count of transactions\", \"continent\", \"mean transaction\", data)"
   ]
  },
  {
   "cell_type": "code",
   "execution_count": null,
   "metadata": {
    "collapsed": true
   },
   "outputs": [],
   "source": [
    "data = nTrain_df.groupby(\"subContinent\")[\"transactionRevenue\"].agg(['size', 'count', 'mean'])\n",
    "data.columns = [\"count\", \"count of transactions\", \"mean transaction\"]\n",
    "data.reset_index(inplace=True)\n",
    "data = data.sort_values(by=\"count\", ascending=False)\n",
    "\n",
    "horizontal_bar_chart(\"subContinent\", \"count\", \"subContinent\", \"count of transactions\", \"subContinent\", \"mean transaction\", data)"
   ]
  },
  {
   "cell_type": "code",
   "execution_count": null,
   "metadata": {
    "collapsed": true
   },
   "outputs": [],
   "source": [
    "data = nTrain_df.groupby(\"country\")[\"transactionRevenue\"].agg(['size', 'count', 'mean'])\n",
    "data.columns = [\"count\", \"count of transactions\", \"mean transaction\"]\n",
    "data.reset_index(inplace=True)\n",
    "data = data.sort_values(by=\"count\", ascending=False)\n",
    "\n",
    "horizontal_bar_chart(\"country\", \"count\", \"country\", \"count of transactions\", \"country\", \"mean transaction\", data.head(10))\n"
   ]
  },
  {
   "cell_type": "code",
   "execution_count": null,
   "metadata": {
    "collapsed": true
   },
   "outputs": [],
   "source": [
    "data = nTrain_df.groupby(\"region\")[\"transactionRevenue\"].agg(['size', 'count', 'mean'])\n",
    "data.columns = [\"count\", \"count of transactions\", \"mean transaction\"]\n",
    "data.reset_index(inplace=True)\n",
    "data = data.sort_values(by=\"count\", ascending=False)\n",
    "\n",
    "horizontal_bar_chart(\"region\", \"count\", \"region\", \"count of transactions\", \"region\", \"mean transaction\", data.head(10))\n"
   ]
  },
  {
   "cell_type": "code",
   "execution_count": null,
   "metadata": {
    "collapsed": true
   },
   "outputs": [],
   "source": [
    "data = nTrain_df.groupby(\"source\")[\"transactionRevenue\"].agg(['size', 'count', 'mean'])\n",
    "data.columns = [\"count\", \"count of transactions\", \"mean transaction\"]\n",
    "data.reset_index(inplace=True)\n",
    "data = data.sort_values(by=\"count\", ascending=False)\n",
    "\n",
    "horizontal_bar_chart(\"source\", \"count\", \"source\", \"count of transactions\", \"source\", \"mean transaction\", data.head(10))\n"
   ]
  },
  {
   "cell_type": "markdown",
   "metadata": {},
   "source": [
    "#### Summary of bar charts\n",
    "\n",
    "- Google Chrome is a clear preference of visitors and buyers. Firefox users spend more on average\n",
    "- The desktop version of the site is used much more than mobile\n",
    "- Windows is the most common OS for visitors, yet Mac users are much more likely to purchase an item\n",
    "- The Americas host the greater number of visitors and buyers, in particular the United States with states such as California, New York and Washington having higher numbers of buyers\n",
    "- African buyers spend more on each transaction than any other buyers\n",
    "- Google is the clear leader for traffic source but most transactions appear to be coming from within the googleplex.com domain, implying that many staff at Google are purchasing from the store"
   ]
  },
  {
   "cell_type": "code",
   "execution_count": 5,
   "metadata": {
    "collapsed": true
   },
   "outputs": [],
   "source": [
    "nTrain_df['datetime'] = nTrain_df['date'].apply(lambda x: datetime.date(int(str(x)[:4]), int(str(x)[4:6]), int(str(x)[6:])))\n",
    "nTest_df['datetime'] = nTest_df['date'].apply(lambda x: datetime.date(int(str(x)[:4]), int(str(x)[4:6]), int(str(x)[6:])))\n"
   ]
  },
  {
   "cell_type": "code",
   "execution_count": 38,
   "metadata": {
    "collapsed": true
   },
   "outputs": [],
   "source": [
    "def line_plot( data):\n",
    "    f, axes = plt.subplots(figsize=(18, 6))\n",
    "\n",
    "    sns.set(style=\"white\")\n",
    "    sns.lineplot( data=data, palette=\"tab10\", linewidth=2.5)\n",
    "    \n",
    "    plt.tight_layout()"
   ]
  },
  {
   "cell_type": "code",
   "execution_count": 40,
   "metadata": {
    "collapsed": false
   },
   "outputs": [
    {
     "ename": "AttributeError",
     "evalue": "module 'seaborn' has no attribute 'lineplot'",
     "output_type": "error",
     "traceback": [
      "\u001b[0;31m---------------------------------------------------------------------------\u001b[0m",
      "\u001b[0;31mAttributeError\u001b[0m                            Traceback (most recent call last)",
      "\u001b[0;32m<ipython-input-40-dd1bfb76fde7>\u001b[0m in \u001b[0;36m<module>\u001b[0;34m()\u001b[0m\n\u001b[1;32m      1\u001b[0m \u001b[0mdata\u001b[0m \u001b[0;34m=\u001b[0m \u001b[0mnTrain_df\u001b[0m\u001b[0;34m.\u001b[0m\u001b[0mgroupby\u001b[0m\u001b[0;34m(\u001b[0m\u001b[0;34m\"datetime\"\u001b[0m\u001b[0;34m)\u001b[0m\u001b[0;34m[\u001b[0m\u001b[0;34m\"transactionRevenue\"\u001b[0m\u001b[0;34m]\u001b[0m\u001b[0;34m.\u001b[0m\u001b[0magg\u001b[0m\u001b[0;34m(\u001b[0m\u001b[0;34m[\u001b[0m\u001b[0;34m'count'\u001b[0m\u001b[0;34m]\u001b[0m\u001b[0;34m)\u001b[0m\u001b[0;34m\u001b[0m\u001b[0m\n\u001b[0;32m----> 2\u001b[0;31m \u001b[0mline_plot\u001b[0m\u001b[0;34m(\u001b[0m\u001b[0mdata\u001b[0m\u001b[0;34m)\u001b[0m\u001b[0;34m\u001b[0m\u001b[0m\n\u001b[0m",
      "\u001b[0;32m<ipython-input-38-0a7a9d8fdf33>\u001b[0m in \u001b[0;36mline_plot\u001b[0;34m(data)\u001b[0m\n\u001b[1;32m      3\u001b[0m \u001b[0;34m\u001b[0m\u001b[0m\n\u001b[1;32m      4\u001b[0m     \u001b[0msns\u001b[0m\u001b[0;34m.\u001b[0m\u001b[0mset\u001b[0m\u001b[0;34m(\u001b[0m\u001b[0mstyle\u001b[0m\u001b[0;34m=\u001b[0m\u001b[0;34m\"white\"\u001b[0m\u001b[0;34m)\u001b[0m\u001b[0;34m\u001b[0m\u001b[0m\n\u001b[0;32m----> 5\u001b[0;31m     \u001b[0msns\u001b[0m\u001b[0;34m.\u001b[0m\u001b[0mlineplot\u001b[0m\u001b[0;34m(\u001b[0m \u001b[0mdata\u001b[0m\u001b[0;34m=\u001b[0m\u001b[0mdata\u001b[0m\u001b[0;34m,\u001b[0m \u001b[0mpalette\u001b[0m\u001b[0;34m=\u001b[0m\u001b[0;34m\"tab10\"\u001b[0m\u001b[0;34m,\u001b[0m \u001b[0mlinewidth\u001b[0m\u001b[0;34m=\u001b[0m\u001b[0;36m2.5\u001b[0m\u001b[0;34m)\u001b[0m\u001b[0;34m\u001b[0m\u001b[0m\n\u001b[0m\u001b[1;32m      6\u001b[0m \u001b[0;34m\u001b[0m\u001b[0m\n\u001b[1;32m      7\u001b[0m     \u001b[0mplt\u001b[0m\u001b[0;34m.\u001b[0m\u001b[0mtight_layout\u001b[0m\u001b[0;34m(\u001b[0m\u001b[0;34m)\u001b[0m\u001b[0;34m\u001b[0m\u001b[0m\n",
      "\u001b[0;31mAttributeError\u001b[0m: module 'seaborn' has no attribute 'lineplot'"
     ]
    },
    {
     "data": {
      "image/png": "[encoded data removed]",
      "text/plain": [
       "<matplotlib.figure.Figure at 0x7fa32b826278>"
      ]
     },
     "metadata": {},
     "output_type": "display_data"
    }
   ],
   "source": [
    "data = nTrain_df.groupby(\"datetime\")[\"transactionRevenue\"].agg(['count'])\n",
    "line_plot(data)\n"
   ]
  },
  {
   "cell_type": "markdown",
   "metadata": {},
   "source": [
    "- The number of transactions is up in December, likely in-line with Christmas\n",
    "- There appears to be no increasing trend from the beginning of the dataset to the end\n",
    "- Seasonality is apparent"
   ]
  },
  {
   "cell_type": "code",
   "execution_count": null,
   "metadata": {
    "collapsed": true
   },
   "outputs": [],
   "source": [
    "data = nTrain_df.groupby(\"datetime\")[\"transactionRevenue\"].agg(['size'])\n",
    "line_plot(data)"
   ]
  },
  {
   "cell_type": "markdown",
   "metadata": {},
   "source": [
    "- The number of visits is also up in November and December, preceding Christmas\n",
    "- There is a similar spike in both plots, around May there is a sudden increase in visits and transactions"
   ]
  },
  {
   "cell_type": "code",
   "execution_count": null,
   "metadata": {
    "collapsed": true
   },
   "outputs": [],
   "source": [
    "data = nTest_df.groupby(\"datetime\")[\"fullVisitorId\"].agg(['size'])\n",
    "line_plot(data)"
   ]
  },
  {
   "cell_type": "markdown",
   "metadata": {},
   "source": [
    "- The test dataset shows a very large spike around December, much larger than any in the training dataset"
   ]
  },
  {
   "cell_type": "markdown",
   "metadata": {},
   "source": [
    "## Data Preprocessing"
   ]
  },
  {
   "cell_type": "markdown",
   "metadata": {},
   "source": [
    "- fill in missing revenue values as 0\n",
    "- normalise data\n",
    "- one hot encode data\n",
    "- remove transactionRevenue from the dataset as a target variable\n",
    "- split into training and validation data\n",
    "\n",
    "- permutation importance\n",
    "- SHAP\n"
   ]
  },
  {
   "cell_type": "code",
   "execution_count": 6,
   "metadata": {
    "collapsed": true
   },
   "outputs": [],
   "source": [
    "# sort by date for train-validation split\n",
    "nTrain_df.sort_values(by=[\"datetime\"], inplace=True)\n",
    "\n",
    "# extract sorted dates\n",
    "dates = pd.DataFrame(nTrain_df[\"date\"])\n",
    "\n",
    "# set target\n",
    "target = pd.DataFrame(nTrain_df[\"transactionRevenue\"])\n",
    "\n",
    "# extract test IDs for later\n",
    "test_ids = nTest_df[\"fullVisitorId\"].values\n",
    "\n",
    "# columns to be dropped before training the model\n",
    "reduce_columns = [\"bounces\", \"Unnamed: 0\", \"fullVisitorId\", \"date\", \"sessionId\", \"visitId\", \"visitStartTime\", \"isMobile\", \"city\",\n",
    "                 \"metro\", \"networkDomain\", \"region\", \"adContent\", \"adwordsClickInfo.adNetworkType\", \n",
    "                  \"adwordsClickInfo.gclId\", \"adwordsClickInfo.isVideoAd\", \"adwordsClickInfo.page\", \n",
    "                  \"adwordsClickInfo.slot\", \"campaign\", \"isTrueDirect\", \"keyword\", \n",
    "                  \"medium\", \"referralPath\", \"source\", \"datetime\"]\n",
    "\n",
    "# drop columns from both datasets, including the two that are missing in the test dataset\n",
    "train_features = nTrain_df.drop(reduce_columns + [\"campaignCode\", \"transactionRevenue\"], axis=1)\n",
    "\n",
    "test = nTest_df.drop(reduce_columns, axis=1)\n"
   ]
  },
  {
   "cell_type": "code",
   "execution_count": 7,
   "metadata": {
    "collapsed": false
   },
   "outputs": [
    {
     "data": {
      "text/html": [
       "<div>\n",
       "<style>\n",
       "    .dataframe thead tr:only-child th {\n",
       "        text-align: right;\n",
       "    }\n",
       "\n",
       "    .dataframe thead th {\n",
       "        text-align: left;\n",
       "    }\n",
       "\n",
       "    .dataframe tbody tr th {\n",
       "        vertical-align: top;\n",
       "    }\n",
       "</style>\n",
       "<table border=\"1\" class=\"dataframe\">\n",
       "  <thead>\n",
       "    <tr style=\"text-align: right;\">\n",
       "      <th></th>\n",
       "      <th>transactionRevenue</th>\n",
       "    </tr>\n",
       "  </thead>\n",
       "  <tbody>\n",
       "    <tr>\n",
       "      <th>538448</th>\n",
       "      <td>0.0</td>\n",
       "    </tr>\n",
       "    <tr>\n",
       "      <th>538277</th>\n",
       "      <td>0.0</td>\n",
       "    </tr>\n",
       "    <tr>\n",
       "      <th>538278</th>\n",
       "      <td>0.0</td>\n",
       "    </tr>\n",
       "    <tr>\n",
       "      <th>538279</th>\n",
       "      <td>0.0</td>\n",
       "    </tr>\n",
       "    <tr>\n",
       "      <th>538280</th>\n",
       "      <td>0.0</td>\n",
       "    </tr>\n",
       "  </tbody>\n",
       "</table>\n",
       "</div>"
      ],
      "text/plain": [
       "        transactionRevenue\n",
       "538448                 0.0\n",
       "538277                 0.0\n",
       "538278                 0.0\n",
       "538279                 0.0\n",
       "538280                 0.0"
      ]
     },
     "execution_count": 7,
     "metadata": {},
     "output_type": "execute_result"
    }
   ],
   "source": [
    "target.head()"
   ]
  },
  {
   "cell_type": "code",
   "execution_count": 7,
   "metadata": {
    "collapsed": true
   },
   "outputs": [],
   "source": [
    "# One-hot encode data\n",
    "categorical_features = [\"channelGrouping\", \"browser\", \"deviceCategory\", \"operatingSystem\", \n",
    "                        \"continent\", \"country\", \"subContinent\"]\n",
    "train_features = pd.get_dummies(train_features, columns=categorical_features)\n",
    "\n",
    "test = pd.get_dummies(test, columns=categorical_features)\n",
    "\n",
    "# Since the train and test datasets have different number of categories after one-hot encoding they need to be aligned\n",
    "# an outer join includes all categories from both datasets\n",
    "train_features, test = train_features.align(test, join='outer', axis=1)\n",
    "\n"
   ]
  },
  {
   "cell_type": "code",
   "execution_count": 8,
   "metadata": {
    "collapsed": false
   },
   "outputs": [
    {
     "data": {
      "text/plain": [
       "(903653, 425)"
      ]
     },
     "execution_count": 8,
     "metadata": {},
     "output_type": "execute_result"
    }
   ],
   "source": [
    "# Replace NaN values throughout dataset\n",
    "train_features.replace(to_replace=np.nan, value=0, inplace=True)\n",
    "train_features.shape\n"
   ]
  },
  {
   "cell_type": "code",
   "execution_count": 9,
   "metadata": {
    "collapsed": false
   },
   "outputs": [
    {
     "data": {
      "text/plain": [
       "(804684, 425)"
      ]
     },
     "execution_count": 9,
     "metadata": {},
     "output_type": "execute_result"
    }
   ],
   "source": [
    "# Replace NaN values throughout dataset\n",
    "test.replace(to_replace=np.nan, value=0, inplace=True)\n",
    "test.shape"
   ]
  },
  {
   "cell_type": "code",
   "execution_count": 10,
   "metadata": {
    "collapsed": false
   },
   "outputs": [
    {
     "data": {
      "text/html": [
       "<div>\n",
       "<style>\n",
       "    .dataframe thead tr:only-child th {\n",
       "        text-align: right;\n",
       "    }\n",
       "\n",
       "    .dataframe thead th {\n",
       "        text-align: left;\n",
       "    }\n",
       "\n",
       "    .dataframe tbody tr th {\n",
       "        vertical-align: top;\n",
       "    }\n",
       "</style>\n",
       "<table border=\"1\" class=\"dataframe\">\n",
       "  <thead>\n",
       "    <tr style=\"text-align: right;\">\n",
       "      <th></th>\n",
       "      <th>transactionRevenue</th>\n",
       "    </tr>\n",
       "  </thead>\n",
       "  <tbody>\n",
       "    <tr>\n",
       "      <th>538448</th>\n",
       "      <td>0.0</td>\n",
       "    </tr>\n",
       "    <tr>\n",
       "      <th>538277</th>\n",
       "      <td>0.0</td>\n",
       "    </tr>\n",
       "    <tr>\n",
       "      <th>538278</th>\n",
       "      <td>0.0</td>\n",
       "    </tr>\n",
       "    <tr>\n",
       "      <th>538279</th>\n",
       "      <td>0.0</td>\n",
       "    </tr>\n",
       "    <tr>\n",
       "      <th>538280</th>\n",
       "      <td>0.0</td>\n",
       "    </tr>\n",
       "  </tbody>\n",
       "</table>\n",
       "</div>"
      ],
      "text/plain": [
       "        transactionRevenue\n",
       "538448                 0.0\n",
       "538277                 0.0\n",
       "538278                 0.0\n",
       "538279                 0.0\n",
       "538280                 0.0"
      ]
     },
     "execution_count": 10,
     "metadata": {},
     "output_type": "execute_result"
    }
   ],
   "source": [
    "# Log transform the labels in the target\n",
    "target = np.log1p(target)\n",
    "target.head()"
   ]
  },
  {
   "cell_type": "code",
   "execution_count": 11,
   "metadata": {
    "collapsed": true
   },
   "outputs": [],
   "source": [
    "# Normalise data\n",
    "normalized_features = [\"visitNumber\",  \"hits\", \"newVisits\", \"pageviews\"]\n",
    "\n",
    "scaler = preprocessing.MinMaxScaler()\n",
    "train_features[normalized_features] = scaler.fit_transform(train_features[normalized_features])\n",
    "\n",
    "test[normalized_features] = scaler.fit_transform(test[normalized_features])"
   ]
  },
  {
   "cell_type": "markdown",
   "metadata": {},
   "source": [
    "##### Splitting the data into training and validation data for cross validation\n",
    "\n",
    "Simply using the `train_test_split` method here is not suitable, since it randomly splits the data. This is normally acceptable as it prevents overfitting by introducing the power of randomness. Unfortunately as this is a time series, it is very possible that time-based trends are at play. Therefore a more appropriate way of splitting the data needs to be adopted.\n",
    "\n",
    "The training dataset begins in 2016/08 and ends 2017/08, therefore is 12 months of data. \n",
    "\n",
    "Say I'd like to split this into 4 folds to be trained consecutively.\n",
    "\n",
    "The below split will result in 4 folds which look something like this:\n",
    "\n",
    "    run 1 : training [1], test [2]      50% of data is used\n",
    "    run 2 : training [1 2], test [3]    75% of data is used\n",
    "    run 3 : training [1 2 3], test [4] 100% of data is used\n",
    "    \n",
    "Each fold requires 4 lists: training features and targets, and validation features and targets\n",
    "\n",
    "\n",
    "(Some inspiration taken from http://francescopochetti.com/pythonic-cross-validation-time-series-pandas-scikit-learn/)"
   ]
  },
  {
   "cell_type": "code",
   "execution_count": 12,
   "metadata": {
    "collapsed": true
   },
   "outputs": [],
   "source": [
    "def k_fold_split(X, y, dates, num_folds):\n",
    "    \n",
    "    k = int(np.floor(float(X.shape[0]) / num_folds))\n",
    "    \n",
    "    X_train_list = []\n",
    "    y_train_list = []\n",
    "    X_val_list = []\n",
    "    y_val_list = []\n",
    "    dates_list = []\n",
    "        \n",
    "    for i in range(2, num_folds + 1):\n",
    "        \n",
    "        # percentage split\n",
    "        split = float(i-1)/i\n",
    "        \n",
    "        x_temp = X[:k*i]\n",
    "        y_temp = y[:k*i]\n",
    "        dates_list.append((dates.iloc[k*i]).values)\n",
    "        \n",
    "        # index to split current fold into train and test\n",
    "        index = int(np.floor(x_temp.shape[0] * split))\n",
    "        \n",
    "        X_train = x_temp[:index]\n",
    "        y_train = y_temp[:index]\n",
    "        \n",
    "        X_val = x_temp[index:]\n",
    "        y_val = y_temp[index:]\n",
    "        \n",
    "        X_train_list.append(X_train)\n",
    "        y_train_list.append(y_train)\n",
    "        X_val_list.append(X_val)\n",
    "        y_val_list.append(y_val)\n",
    "        \n",
    "    return X_train_list, y_train_list, X_val_list, y_val_list, dates_list\n",
    "        "
   ]
  },
  {
   "cell_type": "code",
   "execution_count": 36,
   "metadata": {
    "collapsed": true
   },
   "outputs": [],
   "source": [
    "X_train_list, y_train_list, X_val_list, y_val_list, dates_list = k_fold_split(train_features, target, dates, 5)"
   ]
  },
  {
   "cell_type": "code",
   "execution_count": 37,
   "metadata": {
    "collapsed": false
   },
   "outputs": [
    {
     "name": "stdout",
     "output_type": "stream",
     "text": [
      "(180730, 425)\n",
      "(361460, 425)\n",
      "(542190, 425)\n",
      "(722920, 425)\n",
      "(180730, 1)\n",
      "(361460, 1)\n",
      "(542190, 1)\n",
      "(722920, 1)\n",
      "(180730, 425)\n",
      "(180730, 425)\n",
      "(180730, 425)\n",
      "(180730, 425)\n",
      "(180730, 1)\n",
      "(180730, 1)\n",
      "(180730, 1)\n",
      "(180730, 1)\n",
      "(1,)\n",
      "(1,)\n",
      "(1,)\n",
      "(1,)\n"
     ]
    }
   ],
   "source": [
    "sets = [X_train_list, y_train_list, X_val_list, y_val_list, dates_list]\n",
    "\n",
    "for i in sets:\n",
    "    for x in i:\n",
    "        print (x.shape)"
   ]
  },
  {
   "cell_type": "markdown",
   "metadata": {},
   "source": [
    "## Baseline Model"
   ]
  },
  {
   "cell_type": "code",
   "execution_count": 17,
   "metadata": {
    "collapsed": true
   },
   "outputs": [],
   "source": [
    "from sklearn.tree import DecisionTreeRegressor\n",
    "\n",
    "from sklearn.metrics import make_scorer\n",
    "from sklearn.model_selection import GridSearchCV\n",
    "from sklearn.metrics import r2_score\n"
   ]
  },
  {
   "cell_type": "code",
   "execution_count": 47,
   "metadata": {
    "collapsed": false
   },
   "outputs": [
    {
     "ename": "ValueError",
     "evalue": "invalid literal for int() with base 10: '2-01'",
     "output_type": "error",
     "traceback": [
      "\u001b[0;31m---------------------------------------------------------------------------\u001b[0m",
      "\u001b[0;31mValueError\u001b[0m                                Traceback (most recent call last)",
      "\u001b[0;32m<ipython-input-47-df401f84cd43>\u001b[0m in \u001b[0;36m<module>\u001b[0;34m()\u001b[0m\n\u001b[1;32m      1\u001b[0m \u001b[0mnew_dates\u001b[0m \u001b[0;34m=\u001b[0m \u001b[0mpd\u001b[0m\u001b[0;34m.\u001b[0m\u001b[0mDataFrame\u001b[0m\u001b[0;34m(\u001b[0m\u001b[0mdates_list\u001b[0m\u001b[0;34m)\u001b[0m\u001b[0;34m\u001b[0m\u001b[0m\n\u001b[0;32m----> 2\u001b[0;31m \u001b[0mnew_dates\u001b[0m\u001b[0;34m[\u001b[0m\u001b[0;34m'dates'\u001b[0m\u001b[0;34m]\u001b[0m \u001b[0;34m=\u001b[0m \u001b[0mnew_dates\u001b[0m\u001b[0;34m[\u001b[0m\u001b[0;36m0\u001b[0m\u001b[0;34m]\u001b[0m\u001b[0;34m.\u001b[0m\u001b[0mapply\u001b[0m\u001b[0;34m(\u001b[0m\u001b[0;32mlambda\u001b[0m \u001b[0mx\u001b[0m\u001b[0;34m:\u001b[0m \u001b[0mdatetime\u001b[0m\u001b[0;34m.\u001b[0m\u001b[0mdate\u001b[0m\u001b[0;34m(\u001b[0m\u001b[0mint\u001b[0m\u001b[0;34m(\u001b[0m\u001b[0mstr\u001b[0m\u001b[0;34m(\u001b[0m\u001b[0mx\u001b[0m\u001b[0;34m)\u001b[0m\u001b[0;34m[\u001b[0m\u001b[0;34m:\u001b[0m\u001b[0;36m4\u001b[0m\u001b[0;34m]\u001b[0m\u001b[0;34m)\u001b[0m\u001b[0;34m,\u001b[0m \u001b[0mint\u001b[0m\u001b[0;34m(\u001b[0m\u001b[0mstr\u001b[0m\u001b[0;34m(\u001b[0m\u001b[0mx\u001b[0m\u001b[0;34m)\u001b[0m\u001b[0;34m[\u001b[0m\u001b[0;36m4\u001b[0m\u001b[0;34m:\u001b[0m\u001b[0;36m6\u001b[0m\u001b[0;34m]\u001b[0m\u001b[0;34m)\u001b[0m\u001b[0;34m,\u001b[0m \u001b[0mint\u001b[0m\u001b[0;34m(\u001b[0m\u001b[0mstr\u001b[0m\u001b[0;34m(\u001b[0m\u001b[0mx\u001b[0m\u001b[0;34m)\u001b[0m\u001b[0;34m[\u001b[0m\u001b[0;36m6\u001b[0m\u001b[0;34m:\u001b[0m\u001b[0;34m]\u001b[0m\u001b[0;34m)\u001b[0m\u001b[0;34m)\u001b[0m\u001b[0;34m)\u001b[0m\u001b[0;34m\u001b[0m\u001b[0m\n\u001b[0m\u001b[1;32m      3\u001b[0m \u001b[0mprint\u001b[0m \u001b[0;34m(\u001b[0m\u001b[0mnew_dates\u001b[0m\u001b[0;34m)\u001b[0m\u001b[0;34m\u001b[0m\u001b[0m\n\u001b[1;32m      4\u001b[0m \u001b[0;34m\u001b[0m\u001b[0m\n\u001b[1;32m      5\u001b[0m \u001b[0mdates_long\u001b[0m \u001b[0;34m=\u001b[0m \u001b[0mpd\u001b[0m\u001b[0;34m.\u001b[0m\u001b[0mDataFrame\u001b[0m\u001b[0;34m(\u001b[0m\u001b[0mdates\u001b[0m\u001b[0;34m)\u001b[0m\u001b[0;34m\u001b[0m\u001b[0m\n",
      "\u001b[0;32m/usr/local/lib/python3.5/dist-packages/pandas/core/series.py\u001b[0m in \u001b[0;36mapply\u001b[0;34m(self, func, convert_dtype, args, **kwds)\u001b[0m\n\u001b[1;32m   2353\u001b[0m             \u001b[0;32melse\u001b[0m\u001b[0;34m:\u001b[0m\u001b[0;34m\u001b[0m\u001b[0m\n\u001b[1;32m   2354\u001b[0m                 \u001b[0mvalues\u001b[0m \u001b[0;34m=\u001b[0m \u001b[0mself\u001b[0m\u001b[0;34m.\u001b[0m\u001b[0masobject\u001b[0m\u001b[0;34m\u001b[0m\u001b[0m\n\u001b[0;32m-> 2355\u001b[0;31m                 \u001b[0mmapped\u001b[0m \u001b[0;34m=\u001b[0m \u001b[0mlib\u001b[0m\u001b[0;34m.\u001b[0m\u001b[0mmap_infer\u001b[0m\u001b[0;34m(\u001b[0m\u001b[0mvalues\u001b[0m\u001b[0;34m,\u001b[0m \u001b[0mf\u001b[0m\u001b[0;34m,\u001b[0m \u001b[0mconvert\u001b[0m\u001b[0;34m=\u001b[0m\u001b[0mconvert_dtype\u001b[0m\u001b[0;34m)\u001b[0m\u001b[0;34m\u001b[0m\u001b[0m\n\u001b[0m\u001b[1;32m   2356\u001b[0m \u001b[0;34m\u001b[0m\u001b[0m\n\u001b[1;32m   2357\u001b[0m         \u001b[0;32mif\u001b[0m \u001b[0mlen\u001b[0m\u001b[0;34m(\u001b[0m\u001b[0mmapped\u001b[0m\u001b[0;34m)\u001b[0m \u001b[0;32mand\u001b[0m \u001b[0misinstance\u001b[0m\u001b[0;34m(\u001b[0m\u001b[0mmapped\u001b[0m\u001b[0;34m[\u001b[0m\u001b[0;36m0\u001b[0m\u001b[0;34m]\u001b[0m\u001b[0;34m,\u001b[0m \u001b[0mSeries\u001b[0m\u001b[0;34m)\u001b[0m\u001b[0;34m:\u001b[0m\u001b[0;34m\u001b[0m\u001b[0m\n",
      "\u001b[0;32mpandas/_libs/src/inference.pyx\u001b[0m in \u001b[0;36mpandas._libs.lib.map_infer (pandas/_libs/lib.c:66645)\u001b[0;34m()\u001b[0m\n",
      "\u001b[0;32m<ipython-input-47-df401f84cd43>\u001b[0m in \u001b[0;36m<lambda>\u001b[0;34m(x)\u001b[0m\n\u001b[1;32m      1\u001b[0m \u001b[0mnew_dates\u001b[0m \u001b[0;34m=\u001b[0m \u001b[0mpd\u001b[0m\u001b[0;34m.\u001b[0m\u001b[0mDataFrame\u001b[0m\u001b[0;34m(\u001b[0m\u001b[0mdates_list\u001b[0m\u001b[0;34m)\u001b[0m\u001b[0;34m\u001b[0m\u001b[0m\n\u001b[0;32m----> 2\u001b[0;31m \u001b[0mnew_dates\u001b[0m\u001b[0;34m[\u001b[0m\u001b[0;34m'dates'\u001b[0m\u001b[0;34m]\u001b[0m \u001b[0;34m=\u001b[0m \u001b[0mnew_dates\u001b[0m\u001b[0;34m[\u001b[0m\u001b[0;36m0\u001b[0m\u001b[0;34m]\u001b[0m\u001b[0;34m.\u001b[0m\u001b[0mapply\u001b[0m\u001b[0;34m(\u001b[0m\u001b[0;32mlambda\u001b[0m \u001b[0mx\u001b[0m\u001b[0;34m:\u001b[0m \u001b[0mdatetime\u001b[0m\u001b[0;34m.\u001b[0m\u001b[0mdate\u001b[0m\u001b[0;34m(\u001b[0m\u001b[0mint\u001b[0m\u001b[0;34m(\u001b[0m\u001b[0mstr\u001b[0m\u001b[0;34m(\u001b[0m\u001b[0mx\u001b[0m\u001b[0;34m)\u001b[0m\u001b[0;34m[\u001b[0m\u001b[0;34m:\u001b[0m\u001b[0;36m4\u001b[0m\u001b[0;34m]\u001b[0m\u001b[0;34m)\u001b[0m\u001b[0;34m,\u001b[0m \u001b[0mint\u001b[0m\u001b[0;34m(\u001b[0m\u001b[0mstr\u001b[0m\u001b[0;34m(\u001b[0m\u001b[0mx\u001b[0m\u001b[0;34m)\u001b[0m\u001b[0;34m[\u001b[0m\u001b[0;36m4\u001b[0m\u001b[0;34m:\u001b[0m\u001b[0;36m6\u001b[0m\u001b[0;34m]\u001b[0m\u001b[0;34m)\u001b[0m\u001b[0;34m,\u001b[0m \u001b[0mint\u001b[0m\u001b[0;34m(\u001b[0m\u001b[0mstr\u001b[0m\u001b[0;34m(\u001b[0m\u001b[0mx\u001b[0m\u001b[0;34m)\u001b[0m\u001b[0;34m[\u001b[0m\u001b[0;36m6\u001b[0m\u001b[0;34m:\u001b[0m\u001b[0;34m]\u001b[0m\u001b[0;34m)\u001b[0m\u001b[0;34m)\u001b[0m\u001b[0;34m)\u001b[0m\u001b[0;34m\u001b[0m\u001b[0m\n\u001b[0m\u001b[1;32m      3\u001b[0m \u001b[0mprint\u001b[0m \u001b[0;34m(\u001b[0m\u001b[0mnew_dates\u001b[0m\u001b[0;34m)\u001b[0m\u001b[0;34m\u001b[0m\u001b[0m\n\u001b[1;32m      4\u001b[0m \u001b[0;34m\u001b[0m\u001b[0m\n\u001b[1;32m      5\u001b[0m \u001b[0mdates_long\u001b[0m \u001b[0;34m=\u001b[0m \u001b[0mpd\u001b[0m\u001b[0;34m.\u001b[0m\u001b[0mDataFrame\u001b[0m\u001b[0;34m(\u001b[0m\u001b[0mdates\u001b[0m\u001b[0;34m)\u001b[0m\u001b[0;34m\u001b[0m\u001b[0m\n",
      "\u001b[0;31mValueError\u001b[0m: invalid literal for int() with base 10: '2-01'"
     ]
    }
   ],
   "source": [
    "new_dates = pd.DataFrame(dates_list)\n",
    "new_dates['dates'] = new_dates[0].apply(lambda x: datetime.date(int(str(x)[:4]), int(str(x)[4:6]), int(str(x)[6:])))\n",
    "print (new_dates)\n",
    "\n",
    "dates_long = pd.DataFrame(dates)\n",
    "dates_long['date'] = dates_long['date'].apply(lambda x: datetime.date(int(str(x)[:4]), int(str(x)[4:6]), int(str(x)[6:])))\n",
    "dates_long.shape"
   ]
  },
  {
   "cell_type": "code",
   "execution_count": 16,
   "metadata": {
    "collapsed": true
   },
   "outputs": [],
   "source": [
    "def performance_metric(predict, true):\n",
    "    \"\"\" Calculates and returns the performance score between \n",
    "        true and predicted values based on the metric chosen. \"\"\"\n",
    "\n",
    "    mse = mean_squared_error(predict, true)\n",
    "    rmse = np.sqrt(mean_squared_error(predict, true))\n",
    "    return mse, rmse"
   ]
  },
  {
   "cell_type": "code",
   "execution_count": 17,
   "metadata": {
    "collapsed": true
   },
   "outputs": [],
   "source": [
    "def train_predict(model, X_train, y_train, X_val, y_val):\n",
    "\n",
    "    model = model.fit(X_train, y_train)\n",
    "\n",
    "    val_predictions = model.predict(X_val)\n",
    "    \n",
    "    mse, rmse = performance_metric(val_predictions, y_val)\n",
    "    \n",
    "    return mse, rmse\n",
    "\n",
    "    print('Validation MSE: %.2f' % mse)\n",
    "    print('Validation RMSE: %.2f' % rmse)\n",
    "    "
   ]
  },
  {
   "cell_type": "code",
   "execution_count": 21,
   "metadata": {
    "collapsed": true
   },
   "outputs": [],
   "source": [
    "model = DecisionTreeRegressor(random_state=42)\n",
    "\n",
    "MSE = []\n",
    "RMSE = []\n",
    "\n",
    "for i in range(len(X_train_list)):\n",
    "    X_train = X_train_list[i]\n",
    "    y_train = y_train_list[i]\n",
    "    X_val = X_val_list[i]\n",
    "    y_val = y_val_list[i]\n",
    "    \n",
    "    mse, rmse = train_predict(model, X_train, y_train, X_val, y_val)\n",
    "    MSE.append(mse)\n",
    "    RMSE.append(rmse)\n"
   ]
  },
  {
   "cell_type": "code",
   "execution_count": 22,
   "metadata": {
    "collapsed": false
   },
   "outputs": [
    {
     "data": {
      "image/png": "[encoded data removed]",
      "text/plain": [
       "<matplotlib.figure.Figure at 0x7fa32fc5d828>"
      ]
     },
     "metadata": {},
     "output_type": "display_data"
    }
   ],
   "source": [
    "plt.plot(new_dates['dates'], MSE, 'go--', linewidth=2, markersize=2)\n",
    "plt.plot(new_dates['dates'], RMSE, 'bo-', linewidth=2, markersize=2)\n",
    "plt.legend(('MSE', 'RMSE'),\n",
    "        loc=(1, 1), handlelength=1.5, fontsize=12)\n",
    "plt.xticks(rotation=45)\n",
    "plt.show()\n"
   ]
  },
  {
   "cell_type": "markdown",
   "metadata": {},
   "source": [
    "Interestingly the model shows a sudden improvement in the second k-fold run, however there is a lot of volatility in the first few runs in the time series. This appears to flatten out somewhat when more data is used with the final 2 runs producing a RMSE of 2.16 and 2.14.\n",
    "\n",
    "The average RMSE is 2.09"
   ]
  },
  {
   "cell_type": "markdown",
   "metadata": {},
   "source": [
    "Now we can use this model to predict the outcome of the test set and create a submission file"
   ]
  },
  {
   "cell_type": "code",
   "execution_count": 23,
   "metadata": {
    "collapsed": true
   },
   "outputs": [],
   "source": [
    "predictions = model.predict(np.array(test))\n",
    "\n",
    "submission = pd.DataFrame({\"fullVisitorId\":test_ids})\n",
    "predictions[predictions<0] = 0\n",
    "submission[\"PredictedLogRevenue\"] = predictions\n",
    "submission = submission.groupby(\"fullVisitorId\")[\"PredictedLogRevenue\"].sum().reset_index()\n",
    "submission.columns = [\"fullVisitorId\", \"PredictedLogRevenue\"]\n",
    "submission[\"PredictedLogRevenue\"] = submission[\"PredictedLogRevenue\"]\n",
    "submission.to_csv(\"data/submission.csv\", index=False)"
   ]
  },
  {
   "cell_type": "code",
   "execution_count": 46,
   "metadata": {
    "collapsed": false
   },
   "outputs": [
    {
     "name": "stdout",
     "output_type": "stream",
     "text": [
      "(617242, 2)\n"
     ]
    },
    {
     "data": {
      "text/html": [
       "<div>\n",
       "<style>\n",
       "    .dataframe thead tr:only-child th {\n",
       "        text-align: right;\n",
       "    }\n",
       "\n",
       "    .dataframe thead th {\n",
       "        text-align: left;\n",
       "    }\n",
       "\n",
       "    .dataframe tbody tr th {\n",
       "        vertical-align: top;\n",
       "    }\n",
       "</style>\n",
       "<table border=\"1\" class=\"dataframe\">\n",
       "  <thead>\n",
       "    <tr style=\"text-align: right;\">\n",
       "      <th></th>\n",
       "      <th>fullVisitorId</th>\n",
       "      <th>PredictedLogRevenue</th>\n",
       "    </tr>\n",
       "  </thead>\n",
       "  <tbody>\n",
       "    <tr>\n",
       "      <th>0</th>\n",
       "      <td>0000000259678714014</td>\n",
       "      <td>0.0</td>\n",
       "    </tr>\n",
       "    <tr>\n",
       "      <th>1</th>\n",
       "      <td>0000049363351866189</td>\n",
       "      <td>0.0</td>\n",
       "    </tr>\n",
       "    <tr>\n",
       "      <th>2</th>\n",
       "      <td>0000053049821714864</td>\n",
       "      <td>0.0</td>\n",
       "    </tr>\n",
       "    <tr>\n",
       "      <th>3</th>\n",
       "      <td>0000059488412965267</td>\n",
       "      <td>0.0</td>\n",
       "    </tr>\n",
       "    <tr>\n",
       "      <th>4</th>\n",
       "      <td>0000085840370633780</td>\n",
       "      <td>0.0</td>\n",
       "    </tr>\n",
       "    <tr>\n",
       "      <th>5</th>\n",
       "      <td>0000091131414287111</td>\n",
       "      <td>0.0</td>\n",
       "    </tr>\n",
       "    <tr>\n",
       "      <th>6</th>\n",
       "      <td>0000117255350596610</td>\n",
       "      <td>0.0</td>\n",
       "    </tr>\n",
       "    <tr>\n",
       "      <th>7</th>\n",
       "      <td>0000118334805178127</td>\n",
       "      <td>0.0</td>\n",
       "    </tr>\n",
       "    <tr>\n",
       "      <th>8</th>\n",
       "      <td>0000130646294093000</td>\n",
       "      <td>0.0</td>\n",
       "    </tr>\n",
       "    <tr>\n",
       "      <th>9</th>\n",
       "      <td>0000150005271820273</td>\n",
       "      <td>0.0</td>\n",
       "    </tr>\n",
       "  </tbody>\n",
       "</table>\n",
       "</div>"
      ],
      "text/plain": [
       "         fullVisitorId  PredictedLogRevenue\n",
       "0  0000000259678714014                  0.0\n",
       "1  0000049363351866189                  0.0\n",
       "2  0000053049821714864                  0.0\n",
       "3  0000059488412965267                  0.0\n",
       "4  0000085840370633780                  0.0\n",
       "5  0000091131414287111                  0.0\n",
       "6  0000117255350596610                  0.0\n",
       "7  0000118334805178127                  0.0\n",
       "8  0000130646294093000                  0.0\n",
       "9  0000150005271820273                  0.0"
      ]
     },
     "execution_count": 46,
     "metadata": {},
     "output_type": "execute_result"
    }
   ],
   "source": [
    "print (submission.shape)\n",
    "submission.head(10)"
   ]
  },
  {
   "cell_type": "code",
   "execution_count": null,
   "metadata": {
    "collapsed": true
   },
   "outputs": [],
   "source": [
    "def shap_plot(model, X_val):\n",
    "    \n",
    "    explainer = shap.TreeExplainer(model)\n",
    "    shap_values = explainer.shap_values(X_val)\n",
    "\n",
    "    shap.summary_plot(shap_values, X_val)"
   ]
  },
  {
   "cell_type": "code",
   "execution_count": null,
   "metadata": {
    "collapsed": true
   },
   "outputs": [],
   "source": [
    "i = -1\n",
    "X_train = X_train_list[i]\n",
    "y_train = y_train_list[i]\n",
    "X_val = X_val_list[i]\n",
    "y_val = y_val_list[i]\n",
    "model = DecisionTreeRegressor(random_state=42).fit(X_train, y_train)\n",
    "shap_plot(model, X_val)"
   ]
  },
  {
   "cell_type": "markdown",
   "metadata": {},
   "source": [
    "SHAP (SHapley Additive exPlanations) is a unified approach to explain the output of any machine learning model. (https://github.com/slundberg/shap)\n",
    "\n",
    "- high pageviews contribute to a higher totalRevenue according to the SHAP plot"
   ]
  },
  {
   "cell_type": "code",
   "execution_count": null,
   "metadata": {
    "collapsed": true
   },
   "outputs": [],
   "source": [
    "def feature_importance(model, X, y):\n",
    "    perm = PermutationImportance(model, random_state=42).fit(X, y)\n",
    "    return eli5.show_weights(perm, feature_names = X.columns.tolist())"
   ]
  },
  {
   "cell_type": "code",
   "execution_count": null,
   "metadata": {
    "collapsed": true
   },
   "outputs": [],
   "source": [
    "feature_importance(model, X_val, y_val)"
   ]
  },
  {
   "cell_type": "markdown",
   "metadata": {},
   "source": [
    "The feature importance plot also places emphasis on pageviews but places being in the United States much lower, apparently not even in the top 20. Hits is ranked second, albeit with a much lower weight."
   ]
  },
  {
   "cell_type": "markdown",
   "metadata": {
    "collapsed": true
   },
   "source": [
    "## Model Creation"
   ]
  },
  {
   "cell_type": "markdown",
   "metadata": {},
   "source": [
    "- learning rate should decrease with time, takes smaller and smaller steps"
   ]
  },
  {
   "cell_type": "code",
   "execution_count": 18,
   "metadata": {
    "collapsed": true
   },
   "outputs": [],
   "source": [
    "def plot_metrics(loss, val_loss):\n",
    "    fig, (ax1) = plt.subplots(1, 1, sharex='col', figsize=(20,7))\n",
    "    ax1.plot(loss, label='Train loss')\n",
    "    ax1.plot(val_loss, label='Validation loss')\n",
    "    ax1.legend(loc='best')\n",
    "    ax1.set_title('Loss')\n",
    "    plt.xlabel('Epochs')\n",
    "    plt.show()"
   ]
  },
  {
   "cell_type": "code",
   "execution_count": 19,
   "metadata": {
    "collapsed": true
   },
   "outputs": [],
   "source": [
    "def plot_diff(X, diff):\n",
    "    fig = plt.subplots(figsize=(18,6))\n",
    "    plt.plot(diff, linewidth=1)\n",
    "    plt.xticks(rotation=45)\n",
    "    plt.show()"
   ]
  },
  {
   "cell_type": "code",
   "execution_count": 41,
   "metadata": {
    "collapsed": true
   },
   "outputs": [],
   "source": [
    "BATCH_SIZE = 64 # decrease if memory is not large enough\n",
    "EPOCHS = 50\n",
    "LEARNING_RATE = 1e-2 "
   ]
  },
  {
   "cell_type": "code",
   "execution_count": 18,
   "metadata": {
    "collapsed": true
   },
   "outputs": [],
   "source": []
  },
  {
   "cell_type": "code",
   "execution_count": 21,
   "metadata": {
    "collapsed": true
   },
   "outputs": [],
   "source": [
    "# Sandbox model creation\n",
    "model = Sequential()\n",
    "model.add(Dense(426, kernel_initializer='glorot_normal', input_dim=X_train_list[0].shape[1]))\n",
    "model.add(LeakyReLU(alpha=0.01))\n",
    "model.add(Dropout(0.4))\n",
    "model.add(Dense(214, kernel_initializer='glorot_normal'))\n",
    "model.add(LeakyReLU(alpha=0.01))\n",
    "model.add(Dropout(0.3))\n",
    "model.add(Dense(108, kernel_initializer='glorot_normal'))\n",
    "model.add(LeakyReLU(alpha=0.01))\n",
    "model.add(Dropout(0.2))\n",
    "model.add(Dense(54, kernel_initializer='glorot_normal'))\n",
    "model.add(LeakyReLU(alpha=0.01))\n",
    "model.add(Dense(1))"
   ]
  },
  {
   "cell_type": "markdown",
   "metadata": {},
   "source": [
    "#### Final model setup"
   ]
  },
  {
   "cell_type": "code",
   "execution_count": 42,
   "metadata": {
    "collapsed": true
   },
   "outputs": [],
   "source": [
    "model = Sequential()\n",
    "model.add(Dense(256, kernel_initializer='glorot_normal', activation='relu', input_dim=X_train_list[0].shape[1]))\n",
    "model.add(Dropout(0.4))\n",
    "model.add(Dense(128, kernel_initializer='glorot_normal', activation='relu'))\n",
    "model.add(Dropout(0.3))\n",
    "model.add(Dense(64, kernel_initializer='glorot_normal', activation='relu'))\n",
    "model.add(Dropout(0.2))\n",
    "model.add(Dense(16, kernel_initializer='glorot_normal', activation='relu'))\n",
    "model.add(Dense(1))"
   ]
  },
  {
   "cell_type": "code",
   "execution_count": 20,
   "metadata": {
    "collapsed": true
   },
   "outputs": [],
   "source": [
    "# Setting a learning rate decay through the scheduler callback\n",
    "# To be used in place of the decay rate in the optimizer\n",
    "def schedule(epoch):\n",
    "    print (LEARNING_RATE*(1/(epoch+1)))\n",
    "    return LEARNING_RATE*(1/(epoch+1))\n",
    "    \n"
   ]
  },
  {
   "cell_type": "code",
   "execution_count": 43,
   "metadata": {
    "collapsed": true
   },
   "outputs": [],
   "source": [
    "adam = optimizers.adam(lr=LEARNING_RATE, decay=0.001)\n",
    "model.compile(loss='mse', optimizer=adam)\n",
    "\n",
    "callback = [\n",
    "  # Interrupt training if `val_loss` stops improving for so many epochs (patience) by an amount more than min_delta\n",
    "  EarlyStopping(patience=4, monitor='val_loss', min_delta=0.0005),\n",
    "  # Write TensorBoard logs to `./logs` directory\n",
    "  TensorBoard(log_dir='./logs'),\n",
    "  # Define a learning rate decay\n",
    "#   LearningRateScheduler(schedule)\n",
    "]\n",
    "\n",
    "# To view Tensorboard \n",
    "# enter in command line  tensorboard --logdir='./logs/' and go to localhost:6006 in browser"
   ]
  },
  {
   "cell_type": "markdown",
   "metadata": {},
   "source": [
    "Create additional callbacks"
   ]
  },
  {
   "cell_type": "code",
   "execution_count": 44,
   "metadata": {
    "collapsed": false
   },
   "outputs": [
    {
     "name": "stdout",
     "output_type": "stream",
     "text": [
      "_________________________________________________________________\n",
      "Layer (type)                 Output Shape              Param #   \n",
      "=================================================================\n",
      "dense_11 (Dense)             (None, 256)               109056    \n",
      "_________________________________________________________________\n",
      "dropout_7 (Dropout)          (None, 256)               0         \n",
      "_________________________________________________________________\n",
      "dense_12 (Dense)             (None, 128)               32896     \n",
      "_________________________________________________________________\n",
      "dropout_8 (Dropout)          (None, 128)               0         \n",
      "_________________________________________________________________\n",
      "dense_13 (Dense)             (None, 64)                8256      \n",
      "_________________________________________________________________\n",
      "dropout_9 (Dropout)          (None, 64)                0         \n",
      "_________________________________________________________________\n",
      "dense_14 (Dense)             (None, 16)                1040      \n",
      "_________________________________________________________________\n",
      "dense_15 (Dense)             (None, 1)                 17        \n",
      "=================================================================\n",
      "Total params: 151,265\n",
      "Trainable params: 151,265\n",
      "Non-trainable params: 0\n",
      "_________________________________________________________________\n"
     ]
    }
   ],
   "source": [
    "model.summary()"
   ]
  },
  {
   "cell_type": "markdown",
   "metadata": {},
   "source": [
    "#### Run the model over k iterations"
   ]
  },
  {
   "cell_type": "code",
   "execution_count": 3,
   "metadata": {
    "collapsed": false
   },
   "outputs": [
    {
     "name": "stdout",
     "output_type": "stream",
     "text": [
      "[3 2 1]\n"
     ]
    }
   ],
   "source": [
    "x = [4,3,2]\n",
    "y = [1,1,1]\n",
    "difference = np.subtract(x, y)\n",
    "print (difference)"
   ]
  },
  {
   "cell_type": "code",
   "execution_count": 45,
   "metadata": {
    "collapsed": false,
    "scrolled": true
   },
   "outputs": [
    {
     "name": "stdout",
     "output_type": "stream",
     "text": [
      "Train on 180730 samples, validate on 180730 samples\n",
      "Epoch 1/50\n",
      "180730/180730 [==============================] - 18s - loss: 3.8082 - val_loss: 2.1052\n",
      "Epoch 2/50\n",
      "180730/180730 [==============================] - 18s - loss: 3.4522 - val_loss: 2.0635\n",
      "Epoch 3/50\n",
      "180730/180730 [==============================] - 18s - loss: 3.3755 - val_loss: 1.9911\n",
      "Epoch 4/50\n",
      "180730/180730 [==============================] - 18s - loss: 3.3306 - val_loss: 1.9514\n",
      "Epoch 5/50\n",
      "180730/180730 [==============================] - 18s - loss: 3.3022 - val_loss: 1.9622\n",
      "Epoch 6/50\n",
      "180730/180730 [==============================] - 18s - loss: 3.2822 - val_loss: 1.9646\n",
      "Epoch 7/50\n",
      "180730/180730 [==============================] - 18s - loss: 3.2598 - val_loss: 2.0154\n",
      "Epoch 8/50\n",
      "180730/180730 [==============================] - 18s - loss: 3.2624 - val_loss: 1.9928\n",
      "Epoch 9/50\n",
      "180730/180730 [==============================] - 18s - loss: 3.2519 - val_loss: 1.9889\n",
      "180730\n",
      "Model validation metrics\n",
      "Run 1 of 4\n",
      "MSE: 1.99\n",
      "RMSE: 1.41\n"
     ]
    },
    {
     "data": {
      "image/png": "[encoded data removed]",
      "text/plain": [
       "<matplotlib.figure.Figure at 0x7fc0cece2fd0>"
      ]
     },
     "metadata": {},
     "output_type": "display_data"
    },
    {
     "data": {
      "image/png": "[encoded data removed]",
      "text/plain": [
       "<matplotlib.figure.Figure at 0x7fc0c9e617b8>"
      ]
     },
     "metadata": {},
     "output_type": "display_data"
    },
    {
     "name": "stdout",
     "output_type": "stream",
     "text": [
      "Train on 361460 samples, validate on 180730 samples\n",
      "Epoch 1/50\n",
      "361460/361460 [==============================] - 33s - loss: 2.5956 - val_loss: 3.3402\n",
      "Epoch 2/50\n",
      "361460/361460 [==============================] - 33s - loss: 2.5896 - val_loss: 3.2956\n",
      "Epoch 3/50\n",
      "361460/361460 [==============================] - 33s - loss: 2.5815 - val_loss: 3.2504\n",
      "Epoch 4/50\n",
      "361460/361460 [==============================] - 33s - loss: 2.5762 - val_loss: 3.2813\n",
      "Epoch 5/50\n",
      "361460/361460 [==============================] - 33s - loss: 2.5749 - val_loss: 3.2549\n",
      "Epoch 6/50\n",
      "361460/361460 [==============================] - 33s - loss: 2.5720 - val_loss: 3.3139\n",
      "Epoch 7/50\n",
      "361460/361460 [==============================] - 33s - loss: 2.5755 - val_loss: 3.2827\n",
      "Epoch 8/50\n",
      "361460/361460 [==============================] - 33s - loss: 2.5608 - val_loss: 3.2512\n",
      "180730\n",
      "Model validation metrics\n",
      "Run 2 of 4\n",
      "MSE: 3.25\n",
      "RMSE: 1.80\n"
     ]
    },
    {
     "data": {
      "image/png": "[encoded data removed]",
      "text/plain": [
       "<matplotlib.figure.Figure at 0x7fc0ced13ba8>"
      ]
     },
     "metadata": {},
     "output_type": "display_data"
    },
    {
     "data": {
      "image/png": "[encoded data removed]",
      "text/plain": [
       "<matplotlib.figure.Figure at 0x7fc0ce3caeb8>"
      ]
     },
     "metadata": {},
     "output_type": "display_data"
    },
    {
     "name": "stdout",
     "output_type": "stream",
     "text": [
      "Train on 542190 samples, validate on 180730 samples\n",
      "Epoch 1/50\n",
      "542190/542190 [==============================] - 48s - loss: 2.7758 - val_loss: 3.2539\n",
      "Epoch 2/50\n",
      "542190/542190 [==============================] - 48s - loss: 2.7707 - val_loss: 3.2974\n",
      "Epoch 3/50\n",
      "542190/542190 [==============================] - 48s - loss: 2.7693 - val_loss: 3.2958\n",
      "Epoch 4/50\n",
      "542190/542190 [==============================] - 48s - loss: 2.7620 - val_loss: 3.2276\n",
      "Epoch 5/50\n",
      "542190/542190 [==============================] - 48s - loss: 2.7514 - val_loss: 3.2378\n",
      "Epoch 6/50\n",
      "542190/542190 [==============================] - 48s - loss: 2.7556 - val_loss: 3.2493\n",
      "Epoch 7/50\n",
      "542190/542190 [==============================] - 48s - loss: 2.7603 - val_loss: 3.2440\n",
      "Epoch 8/50\n",
      "542190/542190 [==============================] - 48s - loss: 2.7508 - val_loss: 3.2485\n",
      "Epoch 9/50\n",
      "542190/542190 [==============================] - 48s - loss: 2.7563 - val_loss: 3.2354\n",
      "180730\n",
      "Model validation metrics\n",
      "Run 3 of 4\n",
      "MSE: 3.24\n",
      "RMSE: 1.80\n"
     ]
    },
    {
     "data": {
      "image/png": "[encoded data removed]",
      "text/plain": [
       "<matplotlib.figure.Figure at 0x7fc0ce30a5f8>"
      ]
     },
     "metadata": {},
     "output_type": "display_data"
    },
    {
     "data": {
      "image/png": "[encoded data removed]",
      "text/plain": [
       "<matplotlib.figure.Figure at 0x7fc0ce310080>"
      ]
     },
     "metadata": {},
     "output_type": "display_data"
    },
    {
     "name": "stdout",
     "output_type": "stream",
     "text": [
      "Train on 722920 samples, validate on 180730 samples\n",
      "Epoch 1/50\n",
      "722920/722920 [==============================] - 63s - loss: 2.8617 - val_loss: 3.2671\n",
      "Epoch 2/50\n",
      "722920/722920 [==============================] - 63s - loss: 2.8525 - val_loss: 3.2868\n",
      "Epoch 3/50\n",
      "722920/722920 [==============================] - 63s - loss: 2.8511 - val_loss: 3.2526\n",
      "Epoch 4/50\n",
      "722920/722920 [==============================] - 63s - loss: 2.8502 - val_loss: 3.2338\n",
      "Epoch 5/50\n",
      "722920/722920 [==============================] - 63s - loss: 2.8515 - val_loss: 3.2459\n",
      "Epoch 6/50\n",
      "722920/722920 [==============================] - 63s - loss: 2.8499 - val_loss: 3.2780\n",
      "Epoch 7/50\n",
      "722920/722920 [==============================] - 63s - loss: 2.8443 - val_loss: 3.2588\n",
      "Epoch 8/50\n",
      "722920/722920 [==============================] - 63s - loss: 2.8473 - val_loss: 3.2743\n",
      "Epoch 9/50\n",
      "722920/722920 [==============================] - 63s - loss: 2.8483 - val_loss: 3.2466\n",
      "180730\n",
      "Model validation metrics\n",
      "Run 4 of 4\n",
      "MSE: 3.25\n",
      "RMSE: 1.80\n"
     ]
    },
    {
     "data": {
      "image/png": "[encoded data removed]",
      "text/plain": [
       "<matplotlib.figure.Figure at 0x7fc0ce30cbe0>"
      ]
     },
     "metadata": {},
     "output_type": "display_data"
    },
    {
     "data": {
      "image/png": "[encoded data removed]",
      "text/plain": [
       "<matplotlib.figure.Figure at 0x7fc0f1de0048>"
      ]
     },
     "metadata": {},
     "output_type": "display_data"
    }
   ],
   "source": [
    "MSE = []\n",
    "RMSE = []\n",
    "\n",
    "for i in range(len(X_train_list)):\n",
    "    X_train = np.array(X_train_list[i])\n",
    "    y_train = np.array(y_train_list[i])\n",
    "    X_val = np.array(X_val_list[i])\n",
    "    y_val = np.array(y_val_list[i])\n",
    "        \n",
    "    history = model.fit(x=X_train, y=y_train, batch_size=BATCH_SIZE, epochs=EPOCHS, \n",
    "                    verbose=1, callbacks=callback, validation_data=(X_val, y_val))\n",
    "    \n",
    "    val_predictions = model.predict(X_val)\n",
    "    mse, rmse = performance_metric(val_predictions, y_val)\n",
    "    MSE.append(mse)\n",
    "    RMSE.append(rmse)\n",
    "    \n",
    "    difference = np.subtract(y_val, val_predictions)\n",
    "\n",
    "    print('Model validation metrics')\n",
    "    print ('Run {} of {}'.format(i+1, len(X_train_list)))\n",
    "    print('MSE: %.2f' % mse)\n",
    "    print('RMSE: %.2f' % rmse)\n",
    "    plot_metrics(history.history['loss'], history.history['val_loss'])\n",
    "    plot_diff(X_train, difference)\n",
    "\n"
   ]
  },
  {
   "cell_type": "code",
   "execution_count": 1,
   "metadata": {
    "collapsed": false
   },
   "outputs": [],
   "source": [
    "plt.plot(new_dates['dates'], MSE, 'go--', linewidth=2, markersize=2)\n",
    "plt.plot(new_dates['dates'], RMSE, 'bo-', linewidth=2, markersize=2)\n",
    "plt.legend(('MSE', 'RMSE'),\n",
    "        loc=(1, 1), handlelength=1.5, fontsize=12)\n",
    "plt.xticks(rotation=45)\n",
    "plt.show()"
   ]
  },
  {
   "cell_type": "code",
   "execution_count": 48,
   "metadata": {
    "collapsed": true
   },
   "outputs": [],
   "source": [
    "predictions = model.predict(np.array(test))\n",
    "\n",
    "submission = pd.DataFrame({\"fullVisitorId\":test_ids})\n",
    "# submission = submission[:20000]\n",
    "predictions[predictions<0] = 0\n",
    "submission[\"PredictedLogRevenue\"] = predictions\n",
    "submission = submission.groupby(\"fullVisitorId\")[\"PredictedLogRevenue\"].sum().reset_index()\n",
    "submission.columns = [\"fullVisitorId\", \"PredictedLogRevenue\"]\n",
    "submission[\"PredictedLogRevenue\"] = submission[\"PredictedLogRevenue\"]\n",
    "submission.to_csv(\"data/submission.csv\", index=False)"
   ]
  },
  {
   "cell_type": "markdown",
   "metadata": {},
   "source": [
    "Shape of submission should be (617242, 2)"
   ]
  },
  {
   "cell_type": "code",
   "execution_count": 49,
   "metadata": {
    "collapsed": false
   },
   "outputs": [
    {
     "name": "stdout",
     "output_type": "stream",
     "text": [
      "(617242, 2)\n"
     ]
    },
    {
     "data": {
      "text/html": [
       "<div>\n",
       "<style>\n",
       "    .dataframe thead tr:only-child th {\n",
       "        text-align: right;\n",
       "    }\n",
       "\n",
       "    .dataframe thead th {\n",
       "        text-align: left;\n",
       "    }\n",
       "\n",
       "    .dataframe tbody tr th {\n",
       "        vertical-align: top;\n",
       "    }\n",
       "</style>\n",
       "<table border=\"1\" class=\"dataframe\">\n",
       "  <thead>\n",
       "    <tr style=\"text-align: right;\">\n",
       "      <th></th>\n",
       "      <th>fullVisitorId</th>\n",
       "      <th>PredictedLogRevenue</th>\n",
       "    </tr>\n",
       "  </thead>\n",
       "  <tbody>\n",
       "    <tr>\n",
       "      <th>0</th>\n",
       "      <td>0000000259678714014</td>\n",
       "      <td>1.427895</td>\n",
       "    </tr>\n",
       "    <tr>\n",
       "      <th>1</th>\n",
       "      <td>0000049363351866189</td>\n",
       "      <td>0.035681</td>\n",
       "    </tr>\n",
       "    <tr>\n",
       "      <th>2</th>\n",
       "      <td>0000053049821714864</td>\n",
       "      <td>0.001116</td>\n",
       "    </tr>\n",
       "    <tr>\n",
       "      <th>3</th>\n",
       "      <td>0000059488412965267</td>\n",
       "      <td>0.129946</td>\n",
       "    </tr>\n",
       "    <tr>\n",
       "      <th>4</th>\n",
       "      <td>0000085840370633780</td>\n",
       "      <td>0.043987</td>\n",
       "    </tr>\n",
       "    <tr>\n",
       "      <th>5</th>\n",
       "      <td>0000091131414287111</td>\n",
       "      <td>0.008205</td>\n",
       "    </tr>\n",
       "    <tr>\n",
       "      <th>6</th>\n",
       "      <td>0000117255350596610</td>\n",
       "      <td>4.033306</td>\n",
       "    </tr>\n",
       "    <tr>\n",
       "      <th>7</th>\n",
       "      <td>0000118334805178127</td>\n",
       "      <td>0.016495</td>\n",
       "    </tr>\n",
       "    <tr>\n",
       "      <th>8</th>\n",
       "      <td>0000130646294093000</td>\n",
       "      <td>0.017325</td>\n",
       "    </tr>\n",
       "    <tr>\n",
       "      <th>9</th>\n",
       "      <td>0000150005271820273</td>\n",
       "      <td>0.021865</td>\n",
       "    </tr>\n",
       "  </tbody>\n",
       "</table>\n",
       "</div>"
      ],
      "text/plain": [
       "         fullVisitorId  PredictedLogRevenue\n",
       "0  0000000259678714014             1.427895\n",
       "1  0000049363351866189             0.035681\n",
       "2  0000053049821714864             0.001116\n",
       "3  0000059488412965267             0.129946\n",
       "4  0000085840370633780             0.043987\n",
       "5  0000091131414287111             0.008205\n",
       "6  0000117255350596610             4.033306\n",
       "7  0000118334805178127             0.016495\n",
       "8  0000130646294093000             0.017325\n",
       "9  0000150005271820273             0.021865"
      ]
     },
     "execution_count": 49,
     "metadata": {},
     "output_type": "execute_result"
    }
   ],
   "source": [
    "print (submission.shape)\n",
    "submission.head(10)"
   ]
  },
  {
   "cell_type": "markdown",
   "metadata": {},
   "source": [
    "### Save model"
   ]
  },
  {
   "cell_type": "markdown",
   "metadata": {},
   "source": [
    "Save the entire state of the model for later reference"
   ]
  },
  {
   "cell_type": "code",
   "execution_count": 30,
   "metadata": {
    "collapsed": true
   },
   "outputs": [],
   "source": [
    "model.save('models/model_11.h5')"
   ]
  },
  {
   "cell_type": "markdown",
   "metadata": {},
   "source": [
    "Load a previously used model:\n",
    "- model_1.h5 = RMSE val= 1.75, test= 1.7894\n",
    "    - dense layers: 5 (first layer 256 nodes then halved)\n",
    "    - activation: relu\n",
    "    - dropout: none\n",
    "    - batch size: 64\n",
    "    - learning rate: 0.01\n",
    "    - epochs: 10\n",
    "    \n",
    "- model_2.h5 = RMSE val= 1.70, test=1.7025\n",
    "    - dense layers: 5 \n",
    "    - activation: relu\n",
    "    - dropout: 0.4, 0.3, 0.2\n",
    "    - batch size: 64\n",
    "    - learning rate: 0.0001\n",
    "    - epochs: 100\n",
    "    - early stop patience: 5\n",
    "    \n",
    "- model_3.h5 = RMSE val= , test= 1.5143\n",
    "    - dense layers: 5 \n",
    "    - activation: relu\n",
    "    - dropout: 0.4, 0.3, 0.2\n",
    "    - batch size: 64\n",
    "    - initial learning rate: 0.01\n",
    "    - epochs: 100\n",
    "    - early stop patience: 3\n",
    "    - decay: 0.1\n",
    "    \n",
    "- model_4.h5 = RMSE val= 1.8, test= 1.5324\n",
    "    - dense layers: 5 \n",
    "    - activation: tanh\n",
    "    - dropout: 0.4, 0.3, 0.2\n",
    "    - batch size: 64\n",
    "    - initial learning rate: 0.1\n",
    "    - epochs: 50\n",
    "    - early stop patience: 3\n",
    "    - decay: 0.1\n",
    "    \n",
    "- model_5.h5 = RMSE val= 2.1, test= 1.7493\n",
    "    - dense layers: 5 (first layer 426 nodes then halved)\n",
    "    - activation: relu\n",
    "    - dropout: 0.4, 0.3, 0.2\n",
    "    - batch size: 64\n",
    "    - initial learning rate: 0.1\n",
    "    - epochs: 50\n",
    "    - early stop patience: 3\n",
    "    - decay: 0.1\n",
    "    \n",
    "- model_6.h5 = RMSE val= 1.78, test= 1.5128\n",
    "    - dense layers: 5 (first layer 426 nodes then halved)\n",
    "    - activation: relu\n",
    "    - dropout: 0.4, 0.3, 0.2\n",
    "    - batch size: 64\n",
    "    - initial learning rate: 0.001\n",
    "    - epochs: 50\n",
    "    - early stop patience: 3\n",
    "    - decay: 0.1\n",
    "    \n",
    "- model_7.h5 = RMSE val= 1.74, test= 1.5332\n",
    "    - dense layers: 5 (first layer 426 nodes then halved)\n",
    "    - activation: relu\n",
    "    - dropout: 0.5, 0.5, 0.5\n",
    "    - batch size: 64\n",
    "    - initial learning rate: 0.001\n",
    "    - epochs: 50\n",
    "    - early stop patience: 3\n",
    "    - decay: LearningRateScheduler (LR*(1/(EPOCH+1)))\n",
    "    \n",
    "- model_8.h5 = RMSE val= 1.73, test= 1.5169\n",
    "    - dense layers: 5 (first layer 426 nodes then halved)\n",
    "    - activation: Leaky relu (alpha =0.1\n",
    "    - dropout: 0.4, 0.3, 0.2\n",
    "    - batch size: 64\n",
    "    - initial learning rate: 0.001\n",
    "    - epochs: 50\n",
    "    - early stop patience: 3\n",
    "    - decay: LearningRateScheduler (LR*(1/(EPOCH+1)))\n",
    "    \n",
    "- model_9.h5 (model 3 replica w/ 5 k-folds) = RMSE val= 1.86 , test= 1.5093\n",
    "    - dense layers: 5 \n",
    "    - activation: relu\n",
    "    - dropout: 0.4, 0.3, 0.2\n",
    "    - batch size: 64\n",
    "    - initial learning rate: 0.001\n",
    "    - epochs: 50\n",
    "    - early stop patience: 3\n",
    "    - decay: 0.01\n",
    "    \n",
    "- model_10.h5  = RMSE val= 1.84 , test= 1.5098\n",
    "    - k-folds: 5\n",
    "    - dense layers: 5 \n",
    "    - activation: relu\n",
    "    - dropout: 0.4, 0.3, 0.2\n",
    "    - batch size: 128\n",
    "    - initial learning rate: 0.001\n",
    "    - epochs: 50\n",
    "    - early stop patience: 3\n",
    "    - decay: 0.01\n",
    "- model_11.h5  = RMSE val= 1.88 , test= 1.5121\n",
    "    - k-folds: 15\n",
    "    - dense layers: 5 \n",
    "    - activation: relu\n",
    "    - dropout: 0.4, 0.3, 0.2\n",
    "    - batch size: 64\n",
    "    - initial learning rate: 0.001\n",
    "    - epochs: 50\n",
    "    - early stop patience: 3\n",
    "    - min delta: 0.0005\n",
    "    - decay: 0.01\n",
    "- model_12.h5  = RMSE val= 1.80 , test= 1.5006\n",
    "    - k-folds: 5\n",
    "    - dense layers: 5 \n",
    "    - activation: relu\n",
    "    - dropout: 0.4, 0.3, 0.2\n",
    "    - batch size: 64\n",
    "    - initial learning rate: 0.01\n",
    "    - epochs: 50\n",
    "    - early stop patience: 4\n",
    "    - min delta: 0.0005\n",
    "    - decay: 0.001"
   ]
  },
  {
   "cell_type": "markdown",
   "metadata": {},
   "source": [
    "#### Results ####\n",
    "\n",
    "**Model**      | **Validation RMSE** | **Test RMSE**\n",
    "---------------|---------------------|-----------\n",
    "Baseline DTR    |       2.14         |  1.9443\n",
    "Baseline DTR (5 k) |    -            | 1.9615\n",
    "Baseline zeroes |        -           |  1.7804\n",
    "Baseline DNN    |        -           |  1.82\n",
    "Baseline LGBM   |       -            |  1.70\n",
    "Model 1         |       1.75         | 1.7894\n",
    "Model 2         |       1.86         | 1.7025\n",
    "Model 3         |       1.69         | 1.5143\n",
    "Model 4         |       1.80         | 1.5324\n",
    "Model 5         |       2.10         | 1.7493\n",
    "Model 6         |       1.78         | 1.5128\n",
    "Model 7         |       1.74         | 1.5332\n",
    "Model 8         |       1.73         | 1.5169\n",
    "Model 9         |       1.86         | **1.5093**\n",
    "Model 10        |       1.84         | 1.5098\n",
    "Model 11        |       1.88         | 1.5121\n",
    "Model 12        |       1.80         | 1.5006"
   ]
  },
  {
   "cell_type": "markdown",
   "metadata": {},
   "source": [
    "### Reload old model"
   ]
  },
  {
   "cell_type": "code",
   "execution_count": 31,
   "metadata": {
    "collapsed": true
   },
   "outputs": [],
   "source": [
    "model = models.load_model('models/model_9.h5')"
   ]
  },
  {
   "cell_type": "markdown",
   "metadata": {},
   "source": [
    "### Additional formula\n",
    "Find the optimal learning rate range\n",
    "\n",
    " References\n",
    " \n",
    "    Blog post: jeremyjordan.me/nn-learning-rate\n",
    "    \n",
    "    Original paper: https://arxiv.org/abs/1506.01186"
   ]
  },
  {
   "cell_type": "code",
   "execution_count": 68,
   "metadata": {
    "collapsed": true
   },
   "outputs": [],
   "source": [
    "from keras.callbacks import Callback\n",
    "import matplotlib.pyplot as plt\n",
    "\n",
    "class LRFinder(Callback):\n",
    "    \n",
    "    '''\n",
    "    A simple callback for finding the optimal learning rate range for your model + dataset. \n",
    "    \n",
    "    # Usage\n",
    "        ```python\n",
    "            lr_finder = LRFinder(min_lr=1e-5, \n",
    "                                 max_lr=1e-2, \n",
    "                                 steps_per_epoch=np.ceil(epoch_size/batch_size), \n",
    "                                 epochs=3)\n",
    "            model.fit(X_train, Y_train, callbacks=[lr_finder])\n",
    "            \n",
    "            lr_finder.plot_loss()\n",
    "        ```\n",
    "    \n",
    "    # Arguments\n",
    "        min_lr: The lower bound of the learning rate range for the experiment.\n",
    "        max_lr: The upper bound of the learning rate range for the experiment.\n",
    "        steps_per_epoch: Number of mini-batches in the dataset. Calculated as `np.ceil(epoch_size/batch_size)`. \n",
    "        epochs: Number of epochs to run experiment. Usually between 2 and 4 epochs is sufficient. \n",
    "        \n",
    "\n",
    "    '''\n",
    "    \n",
    "    def __init__(self, min_lr=1e-5, max_lr=1e-2, steps_per_epoch=None, epochs=None):\n",
    "        super().__init__()\n",
    "        \n",
    "        self.min_lr = min_lr\n",
    "        self.max_lr = max_lr\n",
    "        self.total_iterations = steps_per_epoch * epochs\n",
    "        self.iteration = 0\n",
    "        self.history = {}\n",
    "        \n",
    "    def clr(self):\n",
    "        '''Calculate the learning rate.'''\n",
    "        x = self.iteration / self.total_iterations \n",
    "        return self.min_lr + (self.max_lr-self.min_lr) * x\n",
    "        \n",
    "    def on_train_begin(self, logs=None):\n",
    "        '''Initialize the learning rate to the minimum value at the start of training.'''\n",
    "        logs = logs or {}\n",
    "        K.set_value(self.model.optimizer.lr, self.min_lr)\n",
    "        \n",
    "    def on_batch_end(self, epoch, logs=None):\n",
    "        '''Record previous batch statistics and update the learning rate.'''\n",
    "        logs = logs or {}\n",
    "        self.iteration += 1\n",
    "\n",
    "        self.history.setdefault('lr', []).append(K.get_value(self.model.optimizer.lr))\n",
    "        self.history.setdefault('iterations', []).append(self.iteration)\n",
    "\n",
    "        for k, v in logs.items():\n",
    "            self.history.setdefault(k, []).append(v)\n",
    "            \n",
    "        K.set_value(self.model.optimizer.lr, self.clr())\n",
    " \n",
    "    def plot_lr(self):\n",
    "        '''Helper function to quickly inspect the learning rate schedule.'''\n",
    "        plt.plot(self.history['iterations'], self.history['lr'])\n",
    "        plt.yscale('log')\n",
    "        plt.xlabel('Iteration')\n",
    "        plt.ylabel('Learning rate')\n",
    "        \n",
    "    def plot_loss(self):\n",
    "        '''Helper function to quickly observe the learning rate experiment results.'''\n",
    "        plt.plot(self.history['lr'], self.history['loss'])\n",
    "        plt.xscale('log')\n",
    "        plt.xlabel('Learning rate')\n",
    "        plt.ylabel('Loss')"
   ]
  },
  {
   "cell_type": "code",
   "execution_count": null,
   "metadata": {
    "collapsed": true
   },
   "outputs": [],
   "source": []
  },
  {
   "cell_type": "code",
   "execution_count": null,
   "metadata": {
    "collapsed": true
   },
   "outputs": [],
   "source": []
  }
 ],
 "metadata": {
  "kernelspec": {
   "display_name": "TF myEnv",
   "language": "python",
   "name": "myenv"
  },
  "language_info": {
   "codemirror_mode": {
    "name": "ipython",
    "version": 3
   },
   "file_extension": ".py",
   "mimetype": "text/x-python",
   "name": "python",
   "nbconvert_exporter": "python",
   "pygments_lexer": "ipython3",
   "version": "3.6.6"
  }
 },
 "nbformat": 4,
 "nbformat_minor": 2
}
